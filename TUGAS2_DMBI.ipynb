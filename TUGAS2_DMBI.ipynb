{
 "cells": [
  {
   "cell_type": "markdown",
   "metadata": {
    "id": "WbbSSdRCBGkK"
   },
   "source": [
    "###TUGAS 2 DATA MINING & BUSINESS INTELLIGENCE\n",
    "Nama:<br>\n",
    "Almas Fauzia Wibawa \t(17/409427/PA/17734) <br>\n",
    "Bryan Dwison\t\t\t(17/409430/PA/17737)<br>\n",
    "Fajar Abdul Malik\t\t(17/409432/PA/17739)<br>\n",
    "Faqih Ethana Prabandaru\t(17/409433/PA/17740)\n",
    "\n"
   ]
  },
  {
   "cell_type": "markdown",
   "metadata": {
    "id": "PLCPamFKDq_f"
   },
   "source": [
    "**Import Data**"
   ]
  },
  {
   "cell_type": "code",
   "execution_count": null,
   "metadata": {
    "colab": {
     "base_uri": "https://localhost:8080/",
     "height": 204
    },
    "id": "F2kBJSa4vQ4h",
    "outputId": "82841ef2-3ea8-4dfe-990f-24be81575e27"
   },
   "outputs": [
    {
     "data": {
      "text/html": [
       "<div>\n",
       "<style scoped>\n",
       "    .dataframe tbody tr th:only-of-type {\n",
       "        vertical-align: middle;\n",
       "    }\n",
       "\n",
       "    .dataframe tbody tr th {\n",
       "        vertical-align: top;\n",
       "    }\n",
       "\n",
       "    .dataframe thead th {\n",
       "        text-align: right;\n",
       "    }\n",
       "</style>\n",
       "<table border=\"1\" class=\"dataframe\">\n",
       "  <thead>\n",
       "    <tr style=\"text-align: right;\">\n",
       "      <th></th>\n",
       "      <th>Cust ID</th>\n",
       "      <th>Gender</th>\n",
       "      <th>Income</th>\n",
       "      <th>Age</th>\n",
       "      <th>Rentals</th>\n",
       "      <th>Avg Per Visit</th>\n",
       "      <th>Incidentals</th>\n",
       "      <th>Genre</th>\n",
       "    </tr>\n",
       "  </thead>\n",
       "  <tbody>\n",
       "    <tr>\n",
       "      <th>0</th>\n",
       "      <td>1</td>\n",
       "      <td>M</td>\n",
       "      <td>45000</td>\n",
       "      <td>25</td>\n",
       "      <td>27</td>\n",
       "      <td>2.5</td>\n",
       "      <td>Yes</td>\n",
       "      <td>Action</td>\n",
       "    </tr>\n",
       "    <tr>\n",
       "      <th>1</th>\n",
       "      <td>2</td>\n",
       "      <td>F</td>\n",
       "      <td>54000</td>\n",
       "      <td>33</td>\n",
       "      <td>12</td>\n",
       "      <td>3.4</td>\n",
       "      <td>No</td>\n",
       "      <td>Drama</td>\n",
       "    </tr>\n",
       "    <tr>\n",
       "      <th>2</th>\n",
       "      <td>3</td>\n",
       "      <td>F</td>\n",
       "      <td>32000</td>\n",
       "      <td>20</td>\n",
       "      <td>42</td>\n",
       "      <td>1.6</td>\n",
       "      <td>No</td>\n",
       "      <td>Comedy</td>\n",
       "    </tr>\n",
       "    <tr>\n",
       "      <th>3</th>\n",
       "      <td>4</td>\n",
       "      <td>F</td>\n",
       "      <td>59000</td>\n",
       "      <td>70</td>\n",
       "      <td>16</td>\n",
       "      <td>4.2</td>\n",
       "      <td>Yes</td>\n",
       "      <td>Drama</td>\n",
       "    </tr>\n",
       "    <tr>\n",
       "      <th>4</th>\n",
       "      <td>5</td>\n",
       "      <td>M</td>\n",
       "      <td>37000</td>\n",
       "      <td>35</td>\n",
       "      <td>25</td>\n",
       "      <td>3.2</td>\n",
       "      <td>Yes</td>\n",
       "      <td>Action</td>\n",
       "    </tr>\n",
       "  </tbody>\n",
       "</table>\n",
       "</div>"
      ],
      "text/plain": [
       "   Cust ID Gender  Income  Age  Rentals  Avg Per Visit Incidentals   Genre\n",
       "0        1      M   45000   25       27            2.5         Yes  Action\n",
       "1        2      F   54000   33       12            3.4          No   Drama\n",
       "2        3      F   32000   20       42            1.6          No  Comedy\n",
       "3        4      F   59000   70       16            4.2         Yes   Drama\n",
       "4        5      M   37000   35       25            3.2         Yes  Action"
      ]
     },
     "execution_count": 205,
     "metadata": {
      "tags": []
     },
     "output_type": "execute_result"
    }
   ],
   "source": [
    "import pandas as pd\n",
    "\n",
    "df_video = pd.read_excel(r'Video-Store.xls',sheet_name='Sheet1')\n",
    "df_video = df_video.drop(columns=['Unnamed: 8','Unnamed: 9', 'Unnamed: 10'])\n",
    "df_video.head()"
   ]
  },
  {
   "cell_type": "markdown",
   "metadata": {
    "id": "wK8vaB2oDxe6"
   },
   "source": [
    "### A. Data Exploration\n",
    "**a. Hitung nilai rata-rata, median, dan mode dari atribut Income dan Age. Dari ketiga nilai tersbeut, tentukan distribusi atribut Income dan Age miring ke kanan (*positively skewed*), miring ke kiri (*negatively skewed*), atau simetri.**"
   ]
  },
  {
   "cell_type": "code",
   "execution_count": null,
   "metadata": {
    "colab": {
     "base_uri": "https://localhost:8080/",
     "height": 102
    },
    "id": "BNKuQqEeBArt",
    "outputId": "34efe71e-86ef-49ee-8fb5-947429fbb9ec"
   },
   "outputs": [
    {
     "name": "stdout",
     "output_type": "stream",
     "text": [
      "Rata-rata income: 42300.0\n",
      "Median income: 41000.0\n",
      "\n",
      "Rata-rata age: 31.56\n",
      "Median age: 30.0\n"
     ]
    }
   ],
   "source": [
    "income_mean = df_video.Income.mean()\n",
    "income_median = df_video.Income.median()\n",
    "\n",
    "age_mean = df_video.Age.mean()\n",
    "age_median = df_video.Age.median()\n",
    "print('Rata-rata income: ' + str(income_mean))\n",
    "print('Median income: ' + str(income_median))\n",
    "print()\n",
    "print('Rata-rata age: ' + str(age_mean))\n",
    "print('Median age: ' + str(age_median))"
   ]
  },
  {
   "cell_type": "code",
   "execution_count": null,
   "metadata": {
    "colab": {
     "base_uri": "https://localhost:8080/",
     "height": 646
    },
    "id": "D1M0uP-DHrF9",
    "outputId": "342f43bb-60f3-4a14-8e8c-6f2ab54034ec"
   },
   "outputs": [
    {
     "data": {
      "text/plain": [
       "29000    3\n",
       "41000    3\n",
       "74000    2\n",
       "57000    2\n",
       "68000    2\n",
       "45000    2\n",
       "47000    2\n",
       "56000    2\n",
       "32000    2\n",
       "17000    2\n",
       "24000    2\n",
       "49000    2\n",
       "89000    1\n",
       "83000    1\n",
       "36000    1\n",
       "2000     1\n",
       "35000    1\n",
       "18000    1\n",
       "52000    1\n",
       "26000    1\n",
       "23000    1\n",
       "38000    1\n",
       "37000    1\n",
       "25000    1\n",
       "31000    1\n",
       "15000    1\n",
       "1000     1\n",
       "65000    1\n",
       "69000    1\n",
       "79000    1\n",
       "54000    1\n",
       "62000    1\n",
       "59000    1\n",
       "50000    1\n",
       "12000    1\n",
       "6000     1\n",
       "Name: Income, dtype: int64"
      ]
     },
     "execution_count": 163,
     "metadata": {
      "tags": []
     },
     "output_type": "execute_result"
    }
   ],
   "source": [
    "df_video.Income.value_counts()"
   ]
  },
  {
   "cell_type": "code",
   "execution_count": null,
   "metadata": {
    "colab": {
     "base_uri": "https://localhost:8080/",
     "height": 459
    },
    "id": "8BSKZpDENEH8",
    "outputId": "daf8f2dd-a898-4f6c-ba02-b7788bc8bfb3"
   },
   "outputs": [
    {
     "data": {
      "text/plain": [
       "25    7\n",
       "35    6\n",
       "16    3\n",
       "33    3\n",
       "20    3\n",
       "30    2\n",
       "47    2\n",
       "46    2\n",
       "38    2\n",
       "19    2\n",
       "52    2\n",
       "21    2\n",
       "22    2\n",
       "24    1\n",
       "15    1\n",
       "18    1\n",
       "56    1\n",
       "28    1\n",
       "29    1\n",
       "32    1\n",
       "36    1\n",
       "40    1\n",
       "43    1\n",
       "45    1\n",
       "70    1\n",
       "Name: Age, dtype: int64"
      ]
     },
     "execution_count": 164,
     "metadata": {
      "tags": []
     },
     "output_type": "execute_result"
    }
   ],
   "source": [
    "df_video.Age.value_counts()"
   ]
  },
  {
   "cell_type": "code",
   "execution_count": null,
   "metadata": {
    "colab": {
     "base_uri": "https://localhost:8080/",
     "height": 34
    },
    "id": "nGTK-luxOFJX",
    "outputId": "60e42553-97cb-434a-8789-97263362072d"
   },
   "outputs": [
    {
     "data": {
      "text/plain": [
       "0.12035642908466405"
      ]
     },
     "execution_count": 165,
     "metadata": {
      "tags": []
     },
     "output_type": "execute_result"
    }
   ],
   "source": [
    "df_video.Income.skew()"
   ]
  },
  {
   "cell_type": "markdown",
   "metadata": {
    "id": "mD1zt6SYNMGE"
   },
   "source": [
    "Dari kode di atas, dapat kita simpulkan bahwa:<br>\n",
    "1. Rata-rata atribut Income = **42300**\n",
    "2. Median atribut Income = **41000**\n",
    "3. Modus atribut Income = **29000**\n",
    "4. Rata-rata atribut Age = **31.56**\n",
    "5. Median atribut Age = **30**\n",
    "6. Modus atribut Age = **25**\n",
    "\n",
    "Dari nilai rata-rata, median, dan modus dari atribut Income dan Age tersebut, dapat disimpulkan pula bahwa distribusi atribut Income dan Age bersifat **miring ke kanan (*positively skewed*)** karena modus < median < rata-rata.<br><br>\n",
    "**b. Gambarkan histogram dari atribut Income dan Age. Jelaskan apakah distribusi dari atribut Income dan Age berdasarkan histogram sama dengan hasil di soal (a).**"
   ]
  },
  {
   "cell_type": "code",
   "execution_count": null,
   "metadata": {
    "colab": {
     "base_uri": "https://localhost:8080/",
     "height": 386
    },
    "id": "1yj5VxV9lyPu",
    "outputId": "5c9266e4-e242-42f6-c3b0-3b5dbf23dbe5"
   },
   "outputs": [
    {
     "data": {
      "text/plain": [
       "<seaborn.axisgrid.FacetGrid at 0x7f313bf1c390>"
      ]
     },
     "execution_count": 166,
     "metadata": {
      "tags": []
     },
     "output_type": "execute_result"
    },
    {
     "data": {
      "image/png": "[encoded data removed]",
      "text/plain": [
       "<Figure size 360x360 with 1 Axes>"
      ]
     },
     "metadata": {
      "needs_background": "light",
      "tags": []
     },
     "output_type": "display_data"
    }
   ],
   "source": [
    "import seaborn as sns\n",
    "\n",
    "sns.displot(df_video.Income)\n",
    "# sns.distplot(df_video.Income)"
   ]
  },
  {
   "cell_type": "code",
   "execution_count": null,
   "metadata": {
    "colab": {
     "base_uri": "https://localhost:8080/",
     "height": 386
    },
    "id": "2ZyFtMExmq4l",
    "outputId": "71fc98db-7329-482f-ecca-1a827e3575b4"
   },
   "outputs": [
    {
     "data": {
      "text/plain": [
       "<seaborn.axisgrid.FacetGrid at 0x7f313beb0a58>"
      ]
     },
     "execution_count": 167,
     "metadata": {
      "tags": []
     },
     "output_type": "execute_result"
    },
    {
     "data": {
      "image/png": "[encoded data removed]",
      "text/plain": [
       "<Figure size 360x360 with 1 Axes>"
      ]
     },
     "metadata": {
      "needs_background": "light",
      "tags": []
     },
     "output_type": "display_data"
    }
   ],
   "source": [
    "sns.displot(df_video.Age)"
   ]
  },
  {
   "cell_type": "markdown",
   "metadata": {
    "id": "7BUIY-AMe0WG"
   },
   "source": [
    "Dari dua gambar di atas, terlihat bahwa distribusi atribut Income dan Age sama dengan jawaban nomor (a), yaitu **miring ke kanan (*positively skewed*)**. Hal ini karena **data di atribut Income dan Age lebih banyak tersebar di sebelah kiri grafik**.<br><br>\n",
    "\n",
    "**c. Hitung nilai minimum, maksimum, Q1, Q2, Q3, dari atribut Income dan Age.**"
   ]
  },
  {
   "cell_type": "code",
   "execution_count": null,
   "metadata": {
    "colab": {
     "base_uri": "https://localhost:8080/",
     "height": 170
    },
    "id": "Or3-7wBkYeoL",
    "outputId": "dec02ecf-4079-46a1-b6dc-42f294617a77"
   },
   "outputs": [
    {
     "data": {
      "text/plain": [
       "count       50.000000\n",
       "mean     42300.000000\n",
       "std      21409.753642\n",
       "min       1000.000000\n",
       "25%      26750.000000\n",
       "50%      41000.000000\n",
       "75%      56750.000000\n",
       "max      89000.000000\n",
       "Name: Income, dtype: float64"
      ]
     },
     "execution_count": 168,
     "metadata": {
      "tags": []
     },
     "output_type": "execute_result"
    }
   ],
   "source": [
    "df_video.Income.describe()"
   ]
  },
  {
   "cell_type": "code",
   "execution_count": null,
   "metadata": {
    "colab": {
     "base_uri": "https://localhost:8080/",
     "height": 170
    },
    "id": "giFh3E1khYYO",
    "outputId": "8f01ace7-30f5-45cd-b366-d50c4a7b621a"
   },
   "outputs": [
    {
     "data": {
      "text/plain": [
       "count    50.000000\n",
       "mean     31.560000\n",
       "std      12.000272\n",
       "min      15.000000\n",
       "25%      22.000000\n",
       "50%      30.000000\n",
       "75%      37.500000\n",
       "max      70.000000\n",
       "Name: Age, dtype: float64"
      ]
     },
     "execution_count": 169,
     "metadata": {
      "tags": []
     },
     "output_type": "execute_result"
    }
   ],
   "source": [
    "df_video.Age.describe()"
   ]
  },
  {
   "cell_type": "markdown",
   "metadata": {
    "id": "EhOwGWDZhkSF"
   },
   "source": [
    "Dari keluaran di atas, dapat diperoleh informasi bahwa:\n",
    "1. Nilai minimum atribut Income = **1000**\n",
    "2. Nilai maksimum atribut Income = **89000**\n",
    "3. Nilai Q1 atribut Income = **26750**\n",
    "4. Nilai Q2 atribut Income = **41000**\n",
    "5. Nilai Q3 atribut Income = **56750**\n",
    "6. Nilai minimum atribut Age = **15**\n",
    "7. Nilai maksimum atribut Age = **70**\n",
    "8. Nilai Q1 atribut Age = **22**\n",
    "9. Nilai Q2 atribut Age = **30**\n",
    "10. Nilai Q3 atribut Age = **37.5**\n",
    "\n",
    "<br>**d. Gambarkan boxplot dari Income dan Age**\n",
    "<br>Boxplot atribut Income:"
   ]
  },
  {
   "cell_type": "code",
   "execution_count": null,
   "metadata": {
    "colab": {
     "base_uri": "https://localhost:8080/",
     "height": 282
    },
    "id": "VH2x0LzZhahS",
    "outputId": "9efa1ae7-f7ea-4d3e-bf47-c80eaad3230f"
   },
   "outputs": [
    {
     "data": {
      "text/plain": [
       "<matplotlib.axes._subplots.AxesSubplot at 0x7f313d6544e0>"
      ]
     },
     "execution_count": 170,
     "metadata": {
      "tags": []
     },
     "output_type": "execute_result"
    },
    {
     "data": {
      "image/png": "[encoded data removed]",
      "text/plain": [
       "<Figure size 432x288 with 1 Axes>"
      ]
     },
     "metadata": {
      "needs_background": "light",
      "tags": []
     },
     "output_type": "display_data"
    }
   ],
   "source": [
    "sns.boxplot(data=df_video.Income)"
   ]
  },
  {
   "cell_type": "markdown",
   "metadata": {
    "id": "jJucSQJckXLU"
   },
   "source": [
    "Boxplot atribut Age:"
   ]
  },
  {
   "cell_type": "code",
   "execution_count": null,
   "metadata": {
    "colab": {
     "base_uri": "https://localhost:8080/",
     "height": 282
    },
    "id": "D6gEqq5AjY9g",
    "outputId": "098618c3-c627-4750-8ab6-6aa6f0c40bec"
   },
   "outputs": [
    {
     "data": {
      "text/plain": [
       "<matplotlib.axes._subplots.AxesSubplot at 0x7f313d9d1358>"
      ]
     },
     "execution_count": 171,
     "metadata": {
      "tags": []
     },
     "output_type": "execute_result"
    },
    {
     "data": {
      "image/png": "[encoded data removed]",
      "text/plain": [
       "<Figure size 432x288 with 1 Axes>"
      ]
     },
     "metadata": {
      "needs_background": "light",
      "tags": []
     },
     "output_type": "display_data"
    }
   ],
   "source": [
    "sns.boxplot(data=df_video.Age)"
   ]
  },
  {
   "cell_type": "markdown",
   "metadata": {
    "id": "bP1cNBLwkahZ"
   },
   "source": [
    "**e. Hitung rata-rata Income pelanggan pria (M) dan pelanggan wanita (F). Rata-rata Income mana yang lebih tinggi dari rata-rata keseluruhan pelanggan?**"
   ]
  },
  {
   "cell_type": "code",
   "execution_count": null,
   "metadata": {
    "colab": {
     "base_uri": "https://localhost:8080/",
     "height": 51
    },
    "id": "7wEcULZRkLfd",
    "outputId": "731a3bc3-48a7-4ae4-fece-22e1672cc747"
   },
   "outputs": [
    {
     "name": "stdout",
     "output_type": "stream",
     "text": [
      "Rata-rata Income pelanggan pria (M) = 41000.0\n",
      "Rata-rata Income pelanggan wanita (F) = 43708.333333333336\n"
     ]
    }
   ],
   "source": [
    "income_M = [df_video.Income[i] for i in range(len(df_video)) if df_video.Gender[i]=='M']\n",
    "income_F = [df_video.Income[i] for i in range(len(df_video)) if df_video.Gender[i]=='F']\n",
    "\n",
    "income_mean_M = sum(income_M) / len(income_M)\n",
    "income_mean_F = sum(income_F) / len(income_F)\n",
    "\n",
    "print('Rata-rata Income pelanggan pria (M) = ' + str(income_mean_M))\n",
    "print('Rata-rata Income pelanggan wanita (F) = ' + str(income_mean_F))"
   ]
  },
  {
   "cell_type": "markdown",
   "metadata": {
    "id": "9X646P7_mwyg"
   },
   "source": [
    "Dari keluaran di atas, dapat dilihat bahwa:\n",
    "1. Rata-rata Income pelanggan pria (M) = **41000**\n",
    "2. Rata-rata Income pelanggan wanita (F) = **43708.33**\n",
    "\n",
    "Jika dibandingkan, **rata-rata Income pelanggan wanita lebih tinggi dibandingkan rata-rata keseluruhan pelanggan**."
   ]
  },
  {
   "cell_type": "markdown",
   "metadata": {
    "id": "DWDARpjDsuDn"
   },
   "source": [
    "**f. Tentukan jenis film (Genre) yang paling banyak dipinjam oleh  pelanggan pria dan pelanggan wanita.**"
   ]
  },
  {
   "cell_type": "code",
   "execution_count": null,
   "metadata": {
    "id": "BO-Do-HtuNqE"
   },
   "outputs": [],
   "source": [
    "from matplotlib import pyplot as plt\n",
    "import matplotlib.patches as mpatches\n",
    "import seaborn as sns"
   ]
  },
  {
   "cell_type": "code",
   "execution_count": null,
   "metadata": {
    "id": "7RxzalBI2GiT"
   },
   "outputs": [],
   "source": [
    "x = set(df_video.Genre)\n",
    "xlist = list(x)"
   ]
  },
  {
   "cell_type": "code",
   "execution_count": null,
   "metadata": {
    "colab": {
     "base_uri": "https://localhost:8080/",
     "height": 34
    },
    "id": "SASoQsqhlpia",
    "outputId": "232447e5-562f-4144-848b-642a21908935"
   },
   "outputs": [
    {
     "data": {
      "text/plain": [
       "([7, 6, 13], [13, 6, 5])"
      ]
     },
     "execution_count": 175,
     "metadata": {
      "tags": []
     },
     "output_type": "execute_result"
    }
   ],
   "source": [
    "nGenreM = [0,0,0]\n",
    "nGenreF = [0,0,0]\n",
    "for i in range(len(df_video.Genre)): \n",
    "  if df_video.Gender[i] == 'M':\n",
    "    if df_video.Genre[i] == 'Drama':\n",
    "      nGenreM[0]+=1\n",
    "    elif df_video.Genre[i] == 'Comedy':\n",
    "      nGenreM[1]+=1\n",
    "    else:\n",
    "      nGenreM[2]+=1\n",
    "  else:\n",
    "    if df_video.Genre[i] == 'Drama':\n",
    "      nGenreF[0]+=1\n",
    "    elif df_video.Genre[i] == 'Comedy':\n",
    "      nGenreF[1]+=1\n",
    "    else:\n",
    "      nGenreF[2]+=1\n",
    "nGenreM,nGenreF"
   ]
  },
  {
   "cell_type": "code",
   "execution_count": null,
   "metadata": {
    "colab": {
     "base_uri": "https://localhost:8080/",
     "height": 51
    },
    "id": "te6SwG-rtDJF",
    "outputId": "11825bd8-f6c0-4dc7-8f8e-bfe331fbb079"
   },
   "outputs": [
    {
     "name": "stdout",
     "output_type": "stream",
     "text": [
      "Genre yang paling banyak dipinjam pelanggan pria: Drama\n",
      "Genre yang paling banyak dipinjam pelanggan wanita: Action\n"
     ]
    }
   ],
   "source": [
    "mostMGenre = xlist[nGenreM.index(max(nGenreM))]\n",
    "mostFGenre = xlist[nGenreF.index(max(nGenreF))]\n",
    "print(\"Genre yang paling banyak dipinjam pelanggan pria: \"+ mostMGenre)\n",
    "print(\"Genre yang paling banyak dipinjam pelanggan wanita: \"+ mostFGenre)"
   ]
  },
  {
   "cell_type": "code",
   "execution_count": null,
   "metadata": {
    "colab": {
     "base_uri": "https://localhost:8080/",
     "height": 748
    },
    "id": "nNp58v6x77l0",
    "outputId": "db88746c-177e-4fc1-d3d6-18419dfe5e70"
   },
   "outputs": [
    {
     "data": {
      "text/plain": [
       "<BarContainer object of 3 artists>"
      ]
     },
     "execution_count": 177,
     "metadata": {
      "tags": []
     },
     "output_type": "execute_result"
    },
    {
     "data": {
      "image/png": "[encoded data removed]",
      "text/plain": [
       "<Figure size 1440x432 with 1 Axes>"
      ]
     },
     "metadata": {
      "needs_background": "light",
      "tags": []
     },
     "output_type": "display_data"
    },
    {
     "data": {
      "image/png": "[encoded data removed]",
      "text/plain": [
       "<Figure size 1440x432 with 1 Axes>"
      ]
     },
     "metadata": {
      "needs_background": "light",
      "tags": []
     },
     "output_type": "display_data"
    }
   ],
   "source": [
    "plt.figure(figsize=(20, 6))\n",
    "plt.subplot(131)\n",
    "plt.bar(xlist, nGenreM)\n",
    "plt.figure(figsize=(20, 6))\n",
    "plt.subplot(132)\n",
    "plt.bar(xlist, nGenreF)"
   ]
  },
  {
   "cell_type": "markdown",
   "metadata": {
    "id": "OinYgDrv6946"
   },
   "source": [
    "**g. Bandingkan rata-rata Income pelanggan pria dan wanita yang menyukai film berjenis komedi (comedy).**"
   ]
  },
  {
   "cell_type": "code",
   "execution_count": null,
   "metadata": {
    "id": "e6UQliQw5sra"
   },
   "outputs": [],
   "source": [
    "sumIncomeM = 0\n",
    "sumIncomeF = 0\n",
    "nM = 0\n",
    "nF = 0\n",
    "\n",
    "for i in range(len(df_video)):\n",
    "  if df_video.Genre[i] == 'Comedy':\n",
    "    if df_video.Gender[i] == 'M':\n",
    "      nM += 1\n",
    "      sumIncomeM += df_video.Income[i]\n",
    "    else:\n",
    "      nF += 1\n",
    "      sumIncomeF += df_video.Income[i]"
   ]
  },
  {
   "cell_type": "code",
   "execution_count": null,
   "metadata": {
    "colab": {
     "base_uri": "https://localhost:8080/",
     "height": 34
    },
    "id": "FCOG31It7QJh",
    "outputId": "6a6b2918-03c3-439f-87b9-3d26f200e4c1"
   },
   "outputs": [
    {
     "name": "stdout",
     "output_type": "stream",
     "text": [
      "(('M', 56000.0), ('F', 34000.0))\n"
     ]
    }
   ],
   "source": [
    "avgM = sumIncomeM/nM\n",
    "avgF = sumIncomeF/nF\n",
    "avgIncome=[]\n",
    "avgIncome.append(avgM)\n",
    "avgIncome.append(avgF)\n",
    "avgIncome\n",
    "avgg = zip(list(set(df_video.Gender)),avgIncome)\n",
    "print(tuple(avgg))"
   ]
  },
  {
   "cell_type": "code",
   "execution_count": null,
   "metadata": {
    "colab": {
     "base_uri": "https://localhost:8080/",
     "height": 391
    },
    "id": "bmoxnLvaA0y3",
    "outputId": "751f2dfe-c0fb-4e1f-c3b5-27b2dc5597ac"
   },
   "outputs": [
    {
     "data": {
      "text/plain": [
       "<BarContainer object of 2 artists>"
      ]
     },
     "execution_count": 180,
     "metadata": {
      "tags": []
     },
     "output_type": "execute_result"
    },
    {
     "data": {
      "image/png": "[encoded data removed]",
      "text/plain": [
       "<Figure size 1440x432 with 1 Axes>"
      ]
     },
     "metadata": {
      "needs_background": "light",
      "tags": []
     },
     "output_type": "display_data"
    }
   ],
   "source": [
    "plt.figure(figsize=(20, 6))\n",
    "plt.subplot(131)\n",
    "plt.bar(list(set(df_video.Gender)), avgIncome)"
   ]
  },
  {
   "cell_type": "markdown",
   "metadata": {
    "id": "WMBnuMJgCXmk"
   },
   "source": [
    "**h. Hitung koefisien korelasi antar atribut numerik dalam data (Income, Age,\n",
    "Rentals, Avg per Visit). Tentukan atribut mana yang memiliki koefisien\n",
    "korelasi terbesar dan terkecil, dan jelaskan maknanya.**"
   ]
  },
  {
   "cell_type": "code",
   "execution_count": null,
   "metadata": {
    "id": "zoxcpkfiDJVJ"
   },
   "outputs": [],
   "source": [
    "xCor = df_video.drop('Cust ID', 1)\n",
    "xCor = xCor.drop('Unnamed: 8', 1)\n",
    "xCor = xCor.drop('Unnamed: 9', 1)"
   ]
  },
  {
   "cell_type": "code",
   "execution_count": null,
   "metadata": {
    "colab": {
     "base_uri": "https://localhost:8080/",
     "height": 487
    },
    "id": "cstyBwgCCZqE",
    "outputId": "835f6776-770d-41f1-f093-e87a4fbfd8d7"
   },
   "outputs": [
    {
     "data": {
      "image/png": "[encoded data removed]",
      "text/plain": [
       "<Figure size 864x576 with 2 Axes>"
      ]
     },
     "metadata": {
      "needs_background": "light",
      "tags": []
     },
     "output_type": "display_data"
    }
   ],
   "source": [
    "plt.figure(figsize=(12, 8))\n",
    "\n",
    "vg_corr = xCor.corr()\n",
    "sns.heatmap(vg_corr, \n",
    "            xticklabels = vg_corr.columns.values,\n",
    "            yticklabels = vg_corr.columns.values,\n",
    "            annot = True);"
   ]
  },
  {
   "cell_type": "markdown",
   "metadata": {
    "id": "HeB8T4PBD9P7"
   },
   "source": [
    "**Koefisien Korelasi Terbesar : Age dengan Income** <br/>\n",
    "Berarti bahwa semakin besar age/umur dari customer maka semakin besar juga income dari customer tersebut <br/>\n",
    "**Koefisien Korelasi Terkecil : Age dengan Rentals** <br/>\n",
    "Berarti bahwa semakin besar age/number dari customer justru semakin berkurang waktu rental customer tersebut"
   ]
  },
  {
   "cell_type": "code",
   "execution_count": null,
   "metadata": {
    "id": "K5qyxOvyD2DF"
   },
   "outputs": [],
   "source": []
  },
  {
   "cell_type": "markdown",
   "metadata": {
    "id": "rryx8b5kGOmU"
   },
   "source": [
    "**i. Visualisasikan scatter plot antar keempat atribut, yaitu Income, Age,\n",
    "Rentals, Avg per Visit.** **bold text**"
   ]
  },
  {
   "cell_type": "code",
   "execution_count": null,
   "metadata": {
    "colab": {
     "base_uri": "https://localhost:8080/",
     "height": 743
    },
    "id": "8lwmV3yGGQUG",
    "outputId": "1b67b8b8-d6af-4e75-d24b-1de9276bb1ce"
   },
   "outputs": [
    {
     "data": {
      "text/plain": [
       "<Figure size 1008x1008 with 0 Axes>"
      ]
     },
     "metadata": {
      "tags": []
     },
     "output_type": "display_data"
    },
    {
     "data": {
      "image/png": "[encoded data removed]",
      "text/plain": [
       "<Figure size 720x720 with 20 Axes>"
      ]
     },
     "metadata": {
      "needs_background": "light",
      "tags": []
     },
     "output_type": "display_data"
    }
   ],
   "source": [
    "plt.figure(figsize=(14, 14))\n",
    "\n",
    "sns.pairplot(xCor, diag_kind='kde');"
   ]
  },
  {
   "cell_type": "markdown",
   "metadata": {
    "id": "iYcSbIbKHLsu"
   },
   "source": [
    "**j. Pilih customer yang berharga (valued customer), yaitu customer yang memiliki nilai tinggi pada atribut Rentals >= 30. Bandingkan karakteristik\n",
    "dari customer ini dengan karakteristik dari customer lain (yang bukan\n",
    "valued customer) dalam hal Income dan Age**"
   ]
  },
  {
   "cell_type": "code",
   "execution_count": null,
   "metadata": {
    "colab": {
     "base_uri": "https://localhost:8080/",
     "height": 34
    },
    "id": "_BMjG7C1HODz",
    "outputId": "35bac309-6908-467a-8d31-3ef79a0c16ab"
   },
   "outputs": [
    {
     "data": {
      "text/plain": [
       "[2, 5, 7, 10, 14, 17, 18, 22, 25, 26, 28, 34, 35, 39, 42, 44, 48, 49]"
      ]
     },
     "execution_count": 184,
     "metadata": {
      "tags": []
     },
     "output_type": "execute_result"
    }
   ],
   "source": [
    "custValued = [i for i in range(len(df_video)) if df_video.Rentals[i] >= 30]\n",
    "custValued"
   ]
  },
  {
   "cell_type": "code",
   "execution_count": null,
   "metadata": {
    "id": "uQUtuAyinr2b"
   },
   "outputs": [],
   "source": [
    "IncomeValued = []\n",
    "IncomeNoValued = []\n",
    "AgeValued = []\n",
    "AgeNoValued = []\n",
    "for i in range(len(df_video)):\n",
    "  if i in custValued:\n",
    "    IncomeValued.append(df_video.Income[i])\n",
    "    AgeValued.append(df_video.Age[i])\n",
    "  else:\n",
    "    IncomeNoValued.append(df_video.Income[i])\n",
    "    AgeNoValued.append(df_video.Age[i])"
   ]
  },
  {
   "cell_type": "code",
   "execution_count": null,
   "metadata": {
    "id": "U7xVfeEYuV9e"
   },
   "outputs": [],
   "source": []
  },
  {
   "cell_type": "code",
   "execution_count": null,
   "metadata": {
    "colab": {
     "base_uri": "https://localhost:8080/",
     "height": 311
    },
    "id": "LjdJZQFqrPBR",
    "outputId": "45d2f23e-d950-495d-df3b-1710e8994c6a"
   },
   "outputs": [
    {
     "data": {
      "image/png": "[encoded data removed]",
      "text/plain": [
       "<Figure size 777.6x288 with 1 Axes>"
      ]
     },
     "metadata": {
      "needs_background": "light",
      "tags": []
     },
     "output_type": "display_data"
    }
   ],
   "source": [
    "g = sns.catplot(x=\"Age\", y=\"Income\",\n",
    "\n",
    "                data=df_video, kind=\"box\",\n",
    "\n",
    "                height=4, aspect=2.7);"
   ]
  },
  {
   "cell_type": "code",
   "execution_count": null,
   "metadata": {
    "id": "TJmR8Th7sQAn"
   },
   "outputs": [],
   "source": [
    "dfValued = df_video[df_video.Rentals >= 30]"
   ]
  },
  {
   "cell_type": "code",
   "execution_count": null,
   "metadata": {
    "id": "V9Uzzba8vgV9"
   },
   "outputs": [],
   "source": [
    "dfNoValued = df_video[df_video.Rentals < 30]"
   ]
  },
  {
   "cell_type": "code",
   "execution_count": null,
   "metadata": {
    "colab": {
     "base_uri": "https://localhost:8080/",
     "height": 311
    },
    "id": "ePk4UXLgw7C1",
    "outputId": "d99c1e24-c2ed-452e-f85f-e34f4b2b19fd"
   },
   "outputs": [
    {
     "data": {
      "image/png": "[encoded data removed]",
      "text/plain": [
       "<Figure size 777.6x288 with 1 Axes>"
      ]
     },
     "metadata": {
      "needs_background": "light",
      "tags": []
     },
     "output_type": "display_data"
    }
   ],
   "source": [
    "g = sns.catplot(x=\"Age\", y=\"Income\",\n",
    "\n",
    "                data=dfValued, kind=\"box\",\n",
    "\n",
    "                height=4, aspect=2.7);"
   ]
  },
  {
   "cell_type": "code",
   "execution_count": null,
   "metadata": {
    "colab": {
     "base_uri": "https://localhost:8080/",
     "height": 311
    },
    "id": "tZOPcwE5xJza",
    "outputId": "fae53dbf-9522-4d11-9d28-76ac996ee8c2"
   },
   "outputs": [
    {
     "data": {
      "image/png": "[encoded data removed]",
      "text/plain": [
       "<Figure size 201.6x288 with 1 Axes>"
      ]
     },
     "metadata": {
      "needs_background": "light",
      "tags": []
     },
     "output_type": "display_data"
    }
   ],
   "source": [
    "h = sns.catplot(x=\"Gender\", y=\"Income\",\n",
    "\n",
    "                data=dfNoValued, kind=\"box\",\n",
    "\n",
    "                height=4, aspect=.7);"
   ]
  },
  {
   "cell_type": "code",
   "execution_count": null,
   "metadata": {
    "id": "iZre7h0vxOZH"
   },
   "outputs": [],
   "source": [
    "from statistics import mean \n",
    "avgIncomeValued = round(mean(dfValued.Income), 2) \n",
    "avgIncomeNoValued = round(mean(dfValued.Income), 2) "
   ]
  },
  {
   "cell_type": "markdown",
   "metadata": {
    "id": "L4wa_zGf6E2a"
   },
   "source": [
    "###B. Data Preprocessing\n",
    "**Lakukan data preprocessing pada atribut dari file Video-Store.xls. Tambahkan\n",
    "kolom baru dalam file excel sebagai hasil dari preprocessing soal (a), (b), (c), (d),\n",
    "(e).**"
   ]
  },
  {
   "cell_type": "markdown",
   "metadata": {
    "id": "AshrOZox6sl-"
   },
   "source": [
    "**a. Lakukan smoothing dengan metode binning rata-rata pada atribute Age.\n",
    "Gunakan bin berukuran 4 (bin depth). Buat grafik atribut Age sebelum dan\n",
    "sesudah smoothing.**"
   ]
  },
  {
   "cell_type": "code",
   "execution_count": null,
   "metadata": {
    "colab": {
     "base_uri": "https://localhost:8080/",
     "height": 452
    },
    "id": "4U7CCGTy9tGd",
    "outputId": "23b95d74-6287-4ce1-c46f-124df07b0cc4"
   },
   "outputs": [
    {
     "data": {
      "text/html": [
       "<div>\n",
       "<style scoped>\n",
       "    .dataframe tbody tr th:only-of-type {\n",
       "        vertical-align: middle;\n",
       "    }\n",
       "\n",
       "    .dataframe tbody tr th {\n",
       "        vertical-align: top;\n",
       "    }\n",
       "\n",
       "    .dataframe thead th {\n",
       "        text-align: right;\n",
       "    }\n",
       "</style>\n",
       "<table border=\"1\" class=\"dataframe\">\n",
       "  <thead>\n",
       "    <tr style=\"text-align: right;\">\n",
       "      <th></th>\n",
       "      <th>Cust ID</th>\n",
       "      <th>Age</th>\n",
       "      <th>Age-Binned</th>\n",
       "    </tr>\n",
       "  </thead>\n",
       "  <tbody>\n",
       "    <tr>\n",
       "      <th>0</th>\n",
       "      <td>1</td>\n",
       "      <td>25</td>\n",
       "      <td>24</td>\n",
       "    </tr>\n",
       "    <tr>\n",
       "      <th>1</th>\n",
       "      <td>2</td>\n",
       "      <td>33</td>\n",
       "      <td>34</td>\n",
       "    </tr>\n",
       "    <tr>\n",
       "      <th>2</th>\n",
       "      <td>3</td>\n",
       "      <td>20</td>\n",
       "      <td>20</td>\n",
       "    </tr>\n",
       "    <tr>\n",
       "      <th>3</th>\n",
       "      <td>4</td>\n",
       "      <td>70</td>\n",
       "      <td>70</td>\n",
       "    </tr>\n",
       "    <tr>\n",
       "      <th>4</th>\n",
       "      <td>5</td>\n",
       "      <td>35</td>\n",
       "      <td>34</td>\n",
       "    </tr>\n",
       "  </tbody>\n",
       "</table>\n",
       "</div>"
      ],
      "text/plain": [
       "   Cust ID  Age  Age-Binned\n",
       "0        1   25          24\n",
       "1        2   33          34\n",
       "2        3   20          20\n",
       "3        4   70          70\n",
       "4        5   35          34"
      ]
     },
     "execution_count": 285,
     "metadata": {
      "tags": []
     },
     "output_type": "execute_result"
    },
    {
     "data": {
      "image/png": "[encoded data removed]",
      "text/plain": [
       "<Figure size 432x288 with 1 Axes>"
      ]
     },
     "metadata": {
      "needs_background": "light",
      "tags": []
     },
     "output_type": "display_data"
    }
   ],
   "source": [
    "from scipy import stats\n",
    "import matplotlib.pyplot as plt\n",
    "import math\n",
    "import warnings\n",
    "warnings.simplefilter(\"ignore\")\n",
    "\n",
    "CustID_Age = df_video[['Cust ID', 'Age']]\n",
    "CustID_Age.sort_values(by='Age', inplace=True)\n",
    "\n",
    "temp = CustID_Age['Age']\n",
    "bin_depth = 4\n",
    "n_bins = math.ceil((len(CustID_Age['Age'])/bin_depth))\n",
    "\n",
    "bin_means, bin_edges, binnumber = stats.binned_statistic(CustID_Age['Age'], temp, bins=n_bins, statistic='mean')\n",
    "x = []\n",
    "\n",
    "for i in CustID_Age['Age']:\n",
    "  for j in range(13):\n",
    "    if i>=bin_edges[j] and i<=bin_edges[j+1]:\n",
    "      x.append(int(bin_means[j]))\n",
    "CustID_Age['Age'] = x\n",
    "CustID_Age.sort_values(by='Cust ID', inplace=True)\n",
    "df_video['Age-Binned'] = CustID_Age['Age']\n",
    "\n",
    "plt.figure()\n",
    "plt.plot(df_video['Cust ID'],df_video['Age'])\n",
    "plt.plot(df_video['Cust ID'],df_video['Age-Binned'])\n",
    "plt.legend(['Sebelum Binning', 'Setelah Binning'])\n",
    "df_video[['Cust ID', 'Age', 'Age-Binned']].head(5)\n"
   ]
  },
  {
   "cell_type": "markdown",
   "metadata": {
    "id": "G6t6lbU96vJF"
   },
   "source": [
    "**b. Lakukan min-max normalization untuk mentransformasi nilai atribut\n",
    "Income ke dalam range [0.0-1.0].**"
   ]
  },
  {
   "cell_type": "code",
   "execution_count": null,
   "metadata": {
    "colab": {
     "base_uri": "https://localhost:8080/",
     "height": 204
    },
    "id": "pktLE2Or6z4P",
    "outputId": "80bc2cdc-3769-43ea-fac7-34cfd454f07c"
   },
   "outputs": [
    {
     "data": {
      "text/html": [
       "<div>\n",
       "<style scoped>\n",
       "    .dataframe tbody tr th:only-of-type {\n",
       "        vertical-align: middle;\n",
       "    }\n",
       "\n",
       "    .dataframe tbody tr th {\n",
       "        vertical-align: top;\n",
       "    }\n",
       "\n",
       "    .dataframe thead th {\n",
       "        text-align: right;\n",
       "    }\n",
       "</style>\n",
       "<table border=\"1\" class=\"dataframe\">\n",
       "  <thead>\n",
       "    <tr style=\"text-align: right;\">\n",
       "      <th></th>\n",
       "      <th>Cust ID</th>\n",
       "      <th>Income</th>\n",
       "      <th>Income-normalized</th>\n",
       "    </tr>\n",
       "  </thead>\n",
       "  <tbody>\n",
       "    <tr>\n",
       "      <th>0</th>\n",
       "      <td>1</td>\n",
       "      <td>45000</td>\n",
       "      <td>0.50</td>\n",
       "    </tr>\n",
       "    <tr>\n",
       "      <th>1</th>\n",
       "      <td>2</td>\n",
       "      <td>54000</td>\n",
       "      <td>0.60</td>\n",
       "    </tr>\n",
       "    <tr>\n",
       "      <th>2</th>\n",
       "      <td>3</td>\n",
       "      <td>32000</td>\n",
       "      <td>0.35</td>\n",
       "    </tr>\n",
       "    <tr>\n",
       "      <th>3</th>\n",
       "      <td>4</td>\n",
       "      <td>59000</td>\n",
       "      <td>0.66</td>\n",
       "    </tr>\n",
       "    <tr>\n",
       "      <th>4</th>\n",
       "      <td>5</td>\n",
       "      <td>37000</td>\n",
       "      <td>0.41</td>\n",
       "    </tr>\n",
       "  </tbody>\n",
       "</table>\n",
       "</div>"
      ],
      "text/plain": [
       "   Cust ID  Income  Income-normalized\n",
       "0        1   45000               0.50\n",
       "1        2   54000               0.60\n",
       "2        3   32000               0.35\n",
       "3        4   59000               0.66\n",
       "4        5   37000               0.41"
      ]
     },
     "execution_count": 271,
     "metadata": {
      "tags": []
     },
     "output_type": "execute_result"
    }
   ],
   "source": [
    "income = df_video['Income']\n",
    "temp = []\n",
    "for i in income:\n",
    "  new_income = (i-income.min())/(income.max()-income.min())\n",
    "  new_income = round(new_income, 2)\n",
    "  temp.append(new_income)\n",
    "\n",
    "df_video['Income-normalized'] = temp\n",
    "df_video[['Cust ID', 'Income', 'Income-normalized']].head()"
   ]
  },
  {
   "cell_type": "markdown",
   "metadata": {
    "id": "GELQbHmv60RC"
   },
   "source": [
    "**c. Lakukan z-score normalization untuk menstandarkan nilai atribut Rentals.**"
   ]
  },
  {
   "cell_type": "code",
   "execution_count": null,
   "metadata": {
    "colab": {
     "base_uri": "https://localhost:8080/",
     "height": 204
    },
    "id": "L0lJaDGn629d",
    "outputId": "ffeaf082-1157-427f-d2df-a6cbe315a13f"
   },
   "outputs": [
    {
     "data": {
      "text/html": [
       "<div>\n",
       "<style scoped>\n",
       "    .dataframe tbody tr th:only-of-type {\n",
       "        vertical-align: middle;\n",
       "    }\n",
       "\n",
       "    .dataframe tbody tr th {\n",
       "        vertical-align: top;\n",
       "    }\n",
       "\n",
       "    .dataframe thead th {\n",
       "        text-align: right;\n",
       "    }\n",
       "</style>\n",
       "<table border=\"1\" class=\"dataframe\">\n",
       "  <thead>\n",
       "    <tr style=\"text-align: right;\">\n",
       "      <th></th>\n",
       "      <th>Cust ID</th>\n",
       "      <th>Rentals</th>\n",
       "      <th>Rentals-normalized</th>\n",
       "    </tr>\n",
       "  </thead>\n",
       "  <tbody>\n",
       "    <tr>\n",
       "      <th>0</th>\n",
       "      <td>1</td>\n",
       "      <td>27</td>\n",
       "      <td>0.08</td>\n",
       "    </tr>\n",
       "    <tr>\n",
       "      <th>1</th>\n",
       "      <td>2</td>\n",
       "      <td>12</td>\n",
       "      <td>-1.43</td>\n",
       "    </tr>\n",
       "    <tr>\n",
       "      <th>2</th>\n",
       "      <td>3</td>\n",
       "      <td>42</td>\n",
       "      <td>1.59</td>\n",
       "    </tr>\n",
       "    <tr>\n",
       "      <th>3</th>\n",
       "      <td>4</td>\n",
       "      <td>16</td>\n",
       "      <td>-1.03</td>\n",
       "    </tr>\n",
       "    <tr>\n",
       "      <th>4</th>\n",
       "      <td>5</td>\n",
       "      <td>25</td>\n",
       "      <td>-0.12</td>\n",
       "    </tr>\n",
       "  </tbody>\n",
       "</table>\n",
       "</div>"
      ],
      "text/plain": [
       "   Cust ID  Rentals  Rentals-normalized\n",
       "0        1       27                0.08\n",
       "1        2       12               -1.43\n",
       "2        3       42                1.59\n",
       "3        4       16               -1.03\n",
       "4        5       25               -0.12"
      ]
     },
     "execution_count": 272,
     "metadata": {
      "tags": []
     },
     "output_type": "execute_result"
    }
   ],
   "source": [
    "import numpy as np\n",
    "\n",
    "rentals = df_video['Rentals']\n",
    "temp = []\n",
    "stdev = np.std(rentals)\n",
    "mean = np.mean(rentals)\n",
    "\n",
    "for i in rentals:\n",
    "  new_rentals = (i-mean)/stdev\n",
    "  new_rentals = round(new_rentals,2)\n",
    "  temp.append(new_rentals)\n",
    "\n",
    "df_video['Rentals-normalized'] = temp\n",
    "df_video[['Cust ID', 'Rentals', 'Rentals-normalized']].head()"
   ]
  },
  {
   "cell_type": "markdown",
   "metadata": {
    "id": "mfxnfIsD63SV"
   },
   "source": [
    "**d. Ubah atribut Income (yang belum dinormalisasi) menjadi diskrit\n",
    "menggunakan kategori berikut:: High = 60K+; Mid = 25K-59K; Low =\n",
    "kurang dari $25K. Hitung jumlah pelanggan untuk masing-masing kategori\n",
    "Income.**"
   ]
  },
  {
   "cell_type": "code",
   "execution_count": null,
   "metadata": {
    "colab": {
     "base_uri": "https://localhost:8080/",
     "height": 1000
    },
    "id": "yI0Prjnm66TU",
    "outputId": "889e788e-ed81-4d9a-c1f4-298f9e8e0cd5"
   },
   "outputs": [
    {
     "data": {
      "text/html": [
       "<div>\n",
       "<style scoped>\n",
       "    .dataframe tbody tr th:only-of-type {\n",
       "        vertical-align: middle;\n",
       "    }\n",
       "\n",
       "    .dataframe tbody tr th {\n",
       "        vertical-align: top;\n",
       "    }\n",
       "\n",
       "    .dataframe thead th {\n",
       "        text-align: right;\n",
       "    }\n",
       "</style>\n",
       "<table border=\"1\" class=\"dataframe\">\n",
       "  <thead>\n",
       "    <tr style=\"text-align: right;\">\n",
       "      <th></th>\n",
       "      <th>Cust ID</th>\n",
       "      <th>Income</th>\n",
       "      <th>Income-discrete</th>\n",
       "    </tr>\n",
       "  </thead>\n",
       "  <tbody>\n",
       "    <tr>\n",
       "      <th>0</th>\n",
       "      <td>1</td>\n",
       "      <td>45000</td>\n",
       "      <td>Mid</td>\n",
       "    </tr>\n",
       "    <tr>\n",
       "      <th>1</th>\n",
       "      <td>2</td>\n",
       "      <td>54000</td>\n",
       "      <td>Mid</td>\n",
       "    </tr>\n",
       "    <tr>\n",
       "      <th>2</th>\n",
       "      <td>3</td>\n",
       "      <td>32000</td>\n",
       "      <td>Mid</td>\n",
       "    </tr>\n",
       "    <tr>\n",
       "      <th>3</th>\n",
       "      <td>4</td>\n",
       "      <td>59000</td>\n",
       "      <td>Mid</td>\n",
       "    </tr>\n",
       "    <tr>\n",
       "      <th>4</th>\n",
       "      <td>5</td>\n",
       "      <td>37000</td>\n",
       "      <td>Mid</td>\n",
       "    </tr>\n",
       "    <tr>\n",
       "      <th>5</th>\n",
       "      <td>6</td>\n",
       "      <td>18000</td>\n",
       "      <td>Low</td>\n",
       "    </tr>\n",
       "    <tr>\n",
       "      <th>6</th>\n",
       "      <td>7</td>\n",
       "      <td>29000</td>\n",
       "      <td>Mid</td>\n",
       "    </tr>\n",
       "    <tr>\n",
       "      <th>7</th>\n",
       "      <td>8</td>\n",
       "      <td>74000</td>\n",
       "      <td>High</td>\n",
       "    </tr>\n",
       "    <tr>\n",
       "      <th>8</th>\n",
       "      <td>9</td>\n",
       "      <td>38000</td>\n",
       "      <td>Mid</td>\n",
       "    </tr>\n",
       "    <tr>\n",
       "      <th>9</th>\n",
       "      <td>10</td>\n",
       "      <td>65000</td>\n",
       "      <td>High</td>\n",
       "    </tr>\n",
       "    <tr>\n",
       "      <th>10</th>\n",
       "      <td>11</td>\n",
       "      <td>41000</td>\n",
       "      <td>Mid</td>\n",
       "    </tr>\n",
       "    <tr>\n",
       "      <th>11</th>\n",
       "      <td>12</td>\n",
       "      <td>26000</td>\n",
       "      <td>Mid</td>\n",
       "    </tr>\n",
       "    <tr>\n",
       "      <th>12</th>\n",
       "      <td>13</td>\n",
       "      <td>83000</td>\n",
       "      <td>High</td>\n",
       "    </tr>\n",
       "    <tr>\n",
       "      <th>13</th>\n",
       "      <td>14</td>\n",
       "      <td>45000</td>\n",
       "      <td>Mid</td>\n",
       "    </tr>\n",
       "    <tr>\n",
       "      <th>14</th>\n",
       "      <td>15</td>\n",
       "      <td>68000</td>\n",
       "      <td>High</td>\n",
       "    </tr>\n",
       "    <tr>\n",
       "      <th>15</th>\n",
       "      <td>16</td>\n",
       "      <td>17000</td>\n",
       "      <td>Low</td>\n",
       "    </tr>\n",
       "    <tr>\n",
       "      <th>16</th>\n",
       "      <td>17</td>\n",
       "      <td>36000</td>\n",
       "      <td>Mid</td>\n",
       "    </tr>\n",
       "    <tr>\n",
       "      <th>17</th>\n",
       "      <td>18</td>\n",
       "      <td>6000</td>\n",
       "      <td>Low</td>\n",
       "    </tr>\n",
       "    <tr>\n",
       "      <th>18</th>\n",
       "      <td>19</td>\n",
       "      <td>24000</td>\n",
       "      <td>Low</td>\n",
       "    </tr>\n",
       "    <tr>\n",
       "      <th>19</th>\n",
       "      <td>20</td>\n",
       "      <td>12000</td>\n",
       "      <td>Low</td>\n",
       "    </tr>\n",
       "    <tr>\n",
       "      <th>20</th>\n",
       "      <td>21</td>\n",
       "      <td>47000</td>\n",
       "      <td>Mid</td>\n",
       "    </tr>\n",
       "    <tr>\n",
       "      <th>21</th>\n",
       "      <td>22</td>\n",
       "      <td>25000</td>\n",
       "      <td>Low</td>\n",
       "    </tr>\n",
       "    <tr>\n",
       "      <th>22</th>\n",
       "      <td>23</td>\n",
       "      <td>2000</td>\n",
       "      <td>Low</td>\n",
       "    </tr>\n",
       "    <tr>\n",
       "      <th>23</th>\n",
       "      <td>24</td>\n",
       "      <td>79000</td>\n",
       "      <td>High</td>\n",
       "    </tr>\n",
       "    <tr>\n",
       "      <th>24</th>\n",
       "      <td>25</td>\n",
       "      <td>1000</td>\n",
       "      <td>Low</td>\n",
       "    </tr>\n",
       "    <tr>\n",
       "      <th>25</th>\n",
       "      <td>26</td>\n",
       "      <td>56000</td>\n",
       "      <td>Mid</td>\n",
       "    </tr>\n",
       "    <tr>\n",
       "      <th>26</th>\n",
       "      <td>27</td>\n",
       "      <td>62000</td>\n",
       "      <td>High</td>\n",
       "    </tr>\n",
       "    <tr>\n",
       "      <th>27</th>\n",
       "      <td>28</td>\n",
       "      <td>57000</td>\n",
       "      <td>Mid</td>\n",
       "    </tr>\n",
       "    <tr>\n",
       "      <th>28</th>\n",
       "      <td>29</td>\n",
       "      <td>15000</td>\n",
       "      <td>Low</td>\n",
       "    </tr>\n",
       "    <tr>\n",
       "      <th>29</th>\n",
       "      <td>30</td>\n",
       "      <td>41000</td>\n",
       "      <td>Mid</td>\n",
       "    </tr>\n",
       "    <tr>\n",
       "      <th>30</th>\n",
       "      <td>31</td>\n",
       "      <td>49000</td>\n",
       "      <td>Mid</td>\n",
       "    </tr>\n",
       "    <tr>\n",
       "      <th>31</th>\n",
       "      <td>32</td>\n",
       "      <td>47000</td>\n",
       "      <td>Mid</td>\n",
       "    </tr>\n",
       "    <tr>\n",
       "      <th>32</th>\n",
       "      <td>33</td>\n",
       "      <td>23000</td>\n",
       "      <td>Low</td>\n",
       "    </tr>\n",
       "    <tr>\n",
       "      <th>33</th>\n",
       "      <td>34</td>\n",
       "      <td>29000</td>\n",
       "      <td>Mid</td>\n",
       "    </tr>\n",
       "    <tr>\n",
       "      <th>34</th>\n",
       "      <td>35</td>\n",
       "      <td>74000</td>\n",
       "      <td>High</td>\n",
       "    </tr>\n",
       "    <tr>\n",
       "      <th>35</th>\n",
       "      <td>36</td>\n",
       "      <td>29000</td>\n",
       "      <td>Mid</td>\n",
       "    </tr>\n",
       "    <tr>\n",
       "      <th>36</th>\n",
       "      <td>37</td>\n",
       "      <td>89000</td>\n",
       "      <td>High</td>\n",
       "    </tr>\n",
       "    <tr>\n",
       "      <th>37</th>\n",
       "      <td>38</td>\n",
       "      <td>41000</td>\n",
       "      <td>Mid</td>\n",
       "    </tr>\n",
       "    <tr>\n",
       "      <th>38</th>\n",
       "      <td>39</td>\n",
       "      <td>68000</td>\n",
       "      <td>High</td>\n",
       "    </tr>\n",
       "    <tr>\n",
       "      <th>39</th>\n",
       "      <td>40</td>\n",
       "      <td>17000</td>\n",
       "      <td>Low</td>\n",
       "    </tr>\n",
       "    <tr>\n",
       "      <th>40</th>\n",
       "      <td>41</td>\n",
       "      <td>50000</td>\n",
       "      <td>Mid</td>\n",
       "    </tr>\n",
       "    <tr>\n",
       "      <th>41</th>\n",
       "      <td>42</td>\n",
       "      <td>32000</td>\n",
       "      <td>Mid</td>\n",
       "    </tr>\n",
       "    <tr>\n",
       "      <th>42</th>\n",
       "      <td>43</td>\n",
       "      <td>49000</td>\n",
       "      <td>Mid</td>\n",
       "    </tr>\n",
       "    <tr>\n",
       "      <th>43</th>\n",
       "      <td>44</td>\n",
       "      <td>35000</td>\n",
       "      <td>Mid</td>\n",
       "    </tr>\n",
       "    <tr>\n",
       "      <th>44</th>\n",
       "      <td>45</td>\n",
       "      <td>56000</td>\n",
       "      <td>Mid</td>\n",
       "    </tr>\n",
       "    <tr>\n",
       "      <th>45</th>\n",
       "      <td>46</td>\n",
       "      <td>57000</td>\n",
       "      <td>Mid</td>\n",
       "    </tr>\n",
       "    <tr>\n",
       "      <th>46</th>\n",
       "      <td>47</td>\n",
       "      <td>69000</td>\n",
       "      <td>High</td>\n",
       "    </tr>\n",
       "    <tr>\n",
       "      <th>47</th>\n",
       "      <td>48</td>\n",
       "      <td>52000</td>\n",
       "      <td>Mid</td>\n",
       "    </tr>\n",
       "    <tr>\n",
       "      <th>48</th>\n",
       "      <td>49</td>\n",
       "      <td>31000</td>\n",
       "      <td>Mid</td>\n",
       "    </tr>\n",
       "    <tr>\n",
       "      <th>49</th>\n",
       "      <td>50</td>\n",
       "      <td>24000</td>\n",
       "      <td>Low</td>\n",
       "    </tr>\n",
       "  </tbody>\n",
       "</table>\n",
       "</div>"
      ],
      "text/plain": [
       "    Cust ID  Income Income-discrete\n",
       "0         1   45000             Mid\n",
       "1         2   54000             Mid\n",
       "2         3   32000             Mid\n",
       "3         4   59000             Mid\n",
       "4         5   37000             Mid\n",
       "5         6   18000             Low\n",
       "6         7   29000             Mid\n",
       "7         8   74000            High\n",
       "8         9   38000             Mid\n",
       "9        10   65000            High\n",
       "10       11   41000             Mid\n",
       "11       12   26000             Mid\n",
       "12       13   83000            High\n",
       "13       14   45000             Mid\n",
       "14       15   68000            High\n",
       "15       16   17000             Low\n",
       "16       17   36000             Mid\n",
       "17       18    6000             Low\n",
       "18       19   24000             Low\n",
       "19       20   12000             Low\n",
       "20       21   47000             Mid\n",
       "21       22   25000             Low\n",
       "22       23    2000             Low\n",
       "23       24   79000            High\n",
       "24       25    1000             Low\n",
       "25       26   56000             Mid\n",
       "26       27   62000            High\n",
       "27       28   57000             Mid\n",
       "28       29   15000             Low\n",
       "29       30   41000             Mid\n",
       "30       31   49000             Mid\n",
       "31       32   47000             Mid\n",
       "32       33   23000             Low\n",
       "33       34   29000             Mid\n",
       "34       35   74000            High\n",
       "35       36   29000             Mid\n",
       "36       37   89000            High\n",
       "37       38   41000             Mid\n",
       "38       39   68000            High\n",
       "39       40   17000             Low\n",
       "40       41   50000             Mid\n",
       "41       42   32000             Mid\n",
       "42       43   49000             Mid\n",
       "43       44   35000             Mid\n",
       "44       45   56000             Mid\n",
       "45       46   57000             Mid\n",
       "46       47   69000            High\n",
       "47       48   52000             Mid\n",
       "48       49   31000             Mid\n",
       "49       50   24000             Low"
      ]
     },
     "execution_count": 282,
     "metadata": {
      "tags": []
     },
     "output_type": "execute_result"
    }
   ],
   "source": [
    "import pandas as pd\n",
    "import numpy as np\n",
    "\n",
    "df_video['Income-discrete'] = pd.cut(df_video['Income'],\n",
    "                                     bins=[0, 25000, 60000, np.inf],\n",
    "                                     labels=['Low', 'Mid', 'High'])\n",
    "df_video[['Cust ID', 'Income', 'Income-discrete']].head(50)\n",
    "\n"
   ]
  },
  {
   "cell_type": "markdown",
   "metadata": {
    "id": "_POk8-xD66mk"
   },
   "source": [
    "**e. Konversi semua atribut kategorik (Gender, Incidentals, Genre) menjadi\n",
    "atribut kontinyu.**"
   ]
  },
  {
   "cell_type": "code",
   "execution_count": null,
   "metadata": {
    "colab": {
     "base_uri": "https://localhost:8080/",
     "height": 258
    },
    "id": "5qPWo-on68DG",
    "outputId": "bf0e8f31-dc29-417d-89a8-06fda9034858"
   },
   "outputs": [
    {
     "data": {
      "text/html": [
       "<div>\n",
       "<style scoped>\n",
       "    .dataframe tbody tr th:only-of-type {\n",
       "        vertical-align: middle;\n",
       "    }\n",
       "\n",
       "    .dataframe tbody tr th {\n",
       "        vertical-align: top;\n",
       "    }\n",
       "\n",
       "    .dataframe thead th {\n",
       "        text-align: right;\n",
       "    }\n",
       "</style>\n",
       "<table border=\"1\" class=\"dataframe\">\n",
       "  <thead>\n",
       "    <tr style=\"text-align: right;\">\n",
       "      <th></th>\n",
       "      <th>Cust ID</th>\n",
       "      <th>Gender</th>\n",
       "      <th>Income</th>\n",
       "      <th>Age</th>\n",
       "      <th>Rentals</th>\n",
       "      <th>Avg Per Visit</th>\n",
       "      <th>Incidentals</th>\n",
       "      <th>Genre</th>\n",
       "      <th>Gender_F</th>\n",
       "      <th>Gender_M</th>\n",
       "      <th>Incidentals_No</th>\n",
       "      <th>Incidentals_Yes</th>\n",
       "      <th>Genre_Action</th>\n",
       "      <th>Genre_Comedy</th>\n",
       "      <th>Genre_Drama</th>\n",
       "      <th>Income-normalized</th>\n",
       "      <th>Rentals-normalized</th>\n",
       "      <th>Age-Binned</th>\n",
       "      <th>Income-discrete</th>\n",
       "    </tr>\n",
       "  </thead>\n",
       "  <tbody>\n",
       "    <tr>\n",
       "      <th>0</th>\n",
       "      <td>1</td>\n",
       "      <td>M</td>\n",
       "      <td>45000</td>\n",
       "      <td>25</td>\n",
       "      <td>27</td>\n",
       "      <td>2.5</td>\n",
       "      <td>Yes</td>\n",
       "      <td>Action</td>\n",
       "      <td>0</td>\n",
       "      <td>1</td>\n",
       "      <td>0</td>\n",
       "      <td>1</td>\n",
       "      <td>1</td>\n",
       "      <td>0</td>\n",
       "      <td>0</td>\n",
       "      <td>0.50</td>\n",
       "      <td>0.08</td>\n",
       "      <td>24</td>\n",
       "      <td>Mid</td>\n",
       "    </tr>\n",
       "    <tr>\n",
       "      <th>1</th>\n",
       "      <td>2</td>\n",
       "      <td>F</td>\n",
       "      <td>54000</td>\n",
       "      <td>33</td>\n",
       "      <td>12</td>\n",
       "      <td>3.4</td>\n",
       "      <td>No</td>\n",
       "      <td>Drama</td>\n",
       "      <td>1</td>\n",
       "      <td>0</td>\n",
       "      <td>1</td>\n",
       "      <td>0</td>\n",
       "      <td>0</td>\n",
       "      <td>0</td>\n",
       "      <td>1</td>\n",
       "      <td>0.60</td>\n",
       "      <td>-1.43</td>\n",
       "      <td>34</td>\n",
       "      <td>Mid</td>\n",
       "    </tr>\n",
       "    <tr>\n",
       "      <th>2</th>\n",
       "      <td>3</td>\n",
       "      <td>F</td>\n",
       "      <td>32000</td>\n",
       "      <td>20</td>\n",
       "      <td>42</td>\n",
       "      <td>1.6</td>\n",
       "      <td>No</td>\n",
       "      <td>Comedy</td>\n",
       "      <td>1</td>\n",
       "      <td>0</td>\n",
       "      <td>1</td>\n",
       "      <td>0</td>\n",
       "      <td>0</td>\n",
       "      <td>1</td>\n",
       "      <td>0</td>\n",
       "      <td>0.35</td>\n",
       "      <td>1.59</td>\n",
       "      <td>20</td>\n",
       "      <td>Mid</td>\n",
       "    </tr>\n",
       "    <tr>\n",
       "      <th>3</th>\n",
       "      <td>4</td>\n",
       "      <td>F</td>\n",
       "      <td>59000</td>\n",
       "      <td>70</td>\n",
       "      <td>16</td>\n",
       "      <td>4.2</td>\n",
       "      <td>Yes</td>\n",
       "      <td>Drama</td>\n",
       "      <td>1</td>\n",
       "      <td>0</td>\n",
       "      <td>0</td>\n",
       "      <td>1</td>\n",
       "      <td>0</td>\n",
       "      <td>0</td>\n",
       "      <td>1</td>\n",
       "      <td>0.66</td>\n",
       "      <td>-1.03</td>\n",
       "      <td>70</td>\n",
       "      <td>Mid</td>\n",
       "    </tr>\n",
       "    <tr>\n",
       "      <th>4</th>\n",
       "      <td>5</td>\n",
       "      <td>M</td>\n",
       "      <td>37000</td>\n",
       "      <td>35</td>\n",
       "      <td>25</td>\n",
       "      <td>3.2</td>\n",
       "      <td>Yes</td>\n",
       "      <td>Action</td>\n",
       "      <td>0</td>\n",
       "      <td>1</td>\n",
       "      <td>0</td>\n",
       "      <td>1</td>\n",
       "      <td>1</td>\n",
       "      <td>0</td>\n",
       "      <td>0</td>\n",
       "      <td>0.41</td>\n",
       "      <td>-0.12</td>\n",
       "      <td>34</td>\n",
       "      <td>Mid</td>\n",
       "    </tr>\n",
       "  </tbody>\n",
       "</table>\n",
       "</div>"
      ],
      "text/plain": [
       "   Cust ID Gender  Income  Age  Rentals  Avg Per Visit Incidentals   Genre  \\\n",
       "0        1      M   45000   25       27            2.5         Yes  Action   \n",
       "1        2      F   54000   33       12            3.4          No   Drama   \n",
       "2        3      F   32000   20       42            1.6          No  Comedy   \n",
       "3        4      F   59000   70       16            4.2         Yes   Drama   \n",
       "4        5      M   37000   35       25            3.2         Yes  Action   \n",
       "\n",
       "   Gender_F  Gender_M  Incidentals_No  Incidentals_Yes  Genre_Action  \\\n",
       "0         0         1               0                1             1   \n",
       "1         1         0               1                0             0   \n",
       "2         1         0               1                0             0   \n",
       "3         1         0               0                1             0   \n",
       "4         0         1               0                1             1   \n",
       "\n",
       "   Genre_Comedy  Genre_Drama  Income-normalized  Rentals-normalized  \\\n",
       "0             0            0               0.50                0.08   \n",
       "1             0            1               0.60               -1.43   \n",
       "2             1            0               0.35                1.59   \n",
       "3             0            1               0.66               -1.03   \n",
       "4             0            0               0.41               -0.12   \n",
       "\n",
       "   Age-Binned Income-discrete  \n",
       "0          24             Mid  \n",
       "1          34             Mid  \n",
       "2          20             Mid  \n",
       "3          70             Mid  \n",
       "4          34             Mid  "
      ]
     },
     "execution_count": 274,
     "metadata": {
      "tags": []
     },
     "output_type": "execute_result"
    }
   ],
   "source": [
    "categoric = df_video[['Cust ID', 'Gender', 'Incidentals', 'Genre']]\n",
    "x = pd.get_dummies(categoric, columns=['Gender', 'Incidentals', 'Genre'], prefix=['Gender', 'Incidentals', 'Genre'])\n",
    "df_video = df_video.merge(x)\n",
    "df_video.head()"
   ]
  },
  {
   "cell_type": "markdown",
   "metadata": {
    "id": "ay8FE0qx68Te"
   },
   "source": [
    "**f. Buat distance matrik dari pelanggan 1 sampai pelanggan 5 (ukuran matrik\n",
    "adalah 5 x 5) sebelum dan sesudah normalisasi menggunakan min-max (b)\n",
    "dan z-score (c). NOTE: jarak dihitung menggunakan atribut Income dan\n",
    "Rentals. Apakah distance matrix yang dihasilkan sama?**"
   ]
  },
  {
   "cell_type": "code",
   "execution_count": null,
   "metadata": {
    "colab": {
     "base_uri": "https://localhost:8080/",
     "height": 221
    },
    "id": "ln7KGvgz6_xB",
    "outputId": "50c47560-67dd-4b71-9107-9532bc79ec3d"
   },
   "outputs": [
    {
     "name": "stdout",
     "output_type": "stream",
     "text": [
      "Distance Matrix sebelum normalisasi\n",
      "[[0.         1.00498756 2.00561711 3.00426364 4.00101237]\n",
      " [1.00498756 0.         1.03077641 2.0008998  3.00601065]\n",
      " [2.00561711 1.03077641 0.         1.04694795 2.0008998 ]\n",
      " [3.00426364 2.0008998  1.04694795 0.         1.03077641]\n",
      " [4.00101237 3.00601065 2.0008998  1.03077641 0.        ]]\n",
      "Distance Matrix setelah normalisasi\n",
      "[[0.         1.00498756 2.00561711 3.00426364 4.00101237]\n",
      " [1.00498756 0.         1.03077641 2.0008998  3.00601065]\n",
      " [2.00561711 1.03077641 0.         1.04694795 2.0008998 ]\n",
      " [3.00426364 2.0008998  1.04694795 0.         1.03077641]\n",
      " [4.00101237 3.00601065 2.0008998  1.03077641 0.        ]]\n"
     ]
    }
   ],
   "source": [
    "from scipy.spatial.distance import squareform, pdist\n",
    "df_sebelum = df_video[['Cust ID','Income', 'Rentals']].head(5)\n",
    "df_setelah = df_video[['Cust ID','Income-normalized', 'Rentals-normalized']].head(5)\n",
    "\n",
    "distances = pdist(df_minmax.values, metric='euclidean')\n",
    "dist_matrix = squareform(distances)\n",
    "print('Distance Matrix sebelum normalisasi')\n",
    "print(dist_matrix)\n",
    "\n",
    "distances2 = pdist(df_setelah.values, metric='euclidean')\n",
    "dist_matrix2 = squareform(distances)\n",
    "print('Distance Matrix setelah normalisasi')\n",
    "print(dist_matrix2)"
   ]
  },
  {
   "cell_type": "markdown",
   "metadata": {
    "id": "5O9Wzypw1aip"
   },
   "source": [
    "Kesimpulan: *Distance matrix* yang dihasilkan menggunakan data sebelum dan sesudah normalisasi adalah **SAMA**. Hal ini dikarenakan normalisasi hanya mengubah range representasi tiap nilai menjadi antara 0-1."
   ]
  },
  {
   "cell_type": "markdown",
   "metadata": {
    "id": "t1tM0WP37AL6"
   },
   "source": [
    "**g. Dalam sheet2 ada data yang nilainya tidak ada (missing value). Isi data\n",
    "yang tidak ada tersebut dengan nilai yang sesuai.**"
   ]
  },
  {
   "cell_type": "markdown",
   "metadata": {
    "id": "g3CFKiOdtIYn"
   },
   "source": [
    "**Sheet2 sebelum *misiing value* diisi**"
   ]
  },
  {
   "cell_type": "code",
   "execution_count": null,
   "metadata": {
    "colab": {
     "base_uri": "https://localhost:8080/",
     "height": 1000
    },
    "id": "pwagbdqb7AvP",
    "outputId": "9d0df495-236a-48ce-b79e-db76382e6686"
   },
   "outputs": [
    {
     "data": {
      "text/html": [
       "<div>\n",
       "<style scoped>\n",
       "    .dataframe tbody tr th:only-of-type {\n",
       "        vertical-align: middle;\n",
       "    }\n",
       "\n",
       "    .dataframe tbody tr th {\n",
       "        vertical-align: top;\n",
       "    }\n",
       "\n",
       "    .dataframe thead th {\n",
       "        text-align: right;\n",
       "    }\n",
       "</style>\n",
       "<table border=\"1\" class=\"dataframe\">\n",
       "  <thead>\n",
       "    <tr style=\"text-align: right;\">\n",
       "      <th></th>\n",
       "      <th>Cust ID</th>\n",
       "      <th>Gender</th>\n",
       "      <th>Income</th>\n",
       "      <th>Age</th>\n",
       "      <th>Rentals</th>\n",
       "      <th>Avg Per Visit</th>\n",
       "      <th>Incidentals</th>\n",
       "      <th>Genre</th>\n",
       "    </tr>\n",
       "  </thead>\n",
       "  <tbody>\n",
       "    <tr>\n",
       "      <th>0</th>\n",
       "      <td>1</td>\n",
       "      <td>M</td>\n",
       "      <td>45000.0</td>\n",
       "      <td>25.0</td>\n",
       "      <td>27</td>\n",
       "      <td>2.5</td>\n",
       "      <td>Yes</td>\n",
       "      <td>Action</td>\n",
       "    </tr>\n",
       "    <tr>\n",
       "      <th>1</th>\n",
       "      <td>2</td>\n",
       "      <td>F</td>\n",
       "      <td>54000.0</td>\n",
       "      <td>33.0</td>\n",
       "      <td>12</td>\n",
       "      <td>3.4</td>\n",
       "      <td>No</td>\n",
       "      <td>Drama</td>\n",
       "    </tr>\n",
       "    <tr>\n",
       "      <th>2</th>\n",
       "      <td>3</td>\n",
       "      <td>F</td>\n",
       "      <td>32000.0</td>\n",
       "      <td>20.0</td>\n",
       "      <td>42</td>\n",
       "      <td>1.6</td>\n",
       "      <td>No</td>\n",
       "      <td>Comedy</td>\n",
       "    </tr>\n",
       "    <tr>\n",
       "      <th>3</th>\n",
       "      <td>4</td>\n",
       "      <td>F</td>\n",
       "      <td>59000.0</td>\n",
       "      <td>70.0</td>\n",
       "      <td>16</td>\n",
       "      <td>4.2</td>\n",
       "      <td>Yes</td>\n",
       "      <td>Drama</td>\n",
       "    </tr>\n",
       "    <tr>\n",
       "      <th>4</th>\n",
       "      <td>5</td>\n",
       "      <td>M</td>\n",
       "      <td>37000.0</td>\n",
       "      <td>35.0</td>\n",
       "      <td>25</td>\n",
       "      <td>3.2</td>\n",
       "      <td>Yes</td>\n",
       "      <td>Action</td>\n",
       "    </tr>\n",
       "    <tr>\n",
       "      <th>5</th>\n",
       "      <td>6</td>\n",
       "      <td>M</td>\n",
       "      <td>18000.0</td>\n",
       "      <td>20.0</td>\n",
       "      <td>33</td>\n",
       "      <td>1.7</td>\n",
       "      <td>No</td>\n",
       "      <td>Action</td>\n",
       "    </tr>\n",
       "    <tr>\n",
       "      <th>6</th>\n",
       "      <td>7</td>\n",
       "      <td>F</td>\n",
       "      <td>29000.0</td>\n",
       "      <td>45.0</td>\n",
       "      <td>19</td>\n",
       "      <td>3.8</td>\n",
       "      <td>No</td>\n",
       "      <td>Drama</td>\n",
       "    </tr>\n",
       "    <tr>\n",
       "      <th>7</th>\n",
       "      <td>8</td>\n",
       "      <td>M</td>\n",
       "      <td>74000.0</td>\n",
       "      <td>25.0</td>\n",
       "      <td>31</td>\n",
       "      <td>2.4</td>\n",
       "      <td>Yes</td>\n",
       "      <td>Action</td>\n",
       "    </tr>\n",
       "    <tr>\n",
       "      <th>8</th>\n",
       "      <td>9</td>\n",
       "      <td>M</td>\n",
       "      <td>NaN</td>\n",
       "      <td>21.0</td>\n",
       "      <td>18</td>\n",
       "      <td>2.1</td>\n",
       "      <td>No</td>\n",
       "      <td>Comedy</td>\n",
       "    </tr>\n",
       "    <tr>\n",
       "      <th>9</th>\n",
       "      <td>10</td>\n",
       "      <td>F</td>\n",
       "      <td>65000.0</td>\n",
       "      <td>40.0</td>\n",
       "      <td>21</td>\n",
       "      <td>3.3</td>\n",
       "      <td>No</td>\n",
       "      <td>NaN</td>\n",
       "    </tr>\n",
       "    <tr>\n",
       "      <th>10</th>\n",
       "      <td>11</td>\n",
       "      <td>F</td>\n",
       "      <td>41000.0</td>\n",
       "      <td>22.0</td>\n",
       "      <td>48</td>\n",
       "      <td>2.3</td>\n",
       "      <td>Yes</td>\n",
       "      <td>Drama</td>\n",
       "    </tr>\n",
       "    <tr>\n",
       "      <th>11</th>\n",
       "      <td>12</td>\n",
       "      <td>F</td>\n",
       "      <td>26000.0</td>\n",
       "      <td>22.0</td>\n",
       "      <td>29</td>\n",
       "      <td>2.9</td>\n",
       "      <td>Yes</td>\n",
       "      <td>Action</td>\n",
       "    </tr>\n",
       "    <tr>\n",
       "      <th>12</th>\n",
       "      <td>13</td>\n",
       "      <td>M</td>\n",
       "      <td>83000.0</td>\n",
       "      <td>46.0</td>\n",
       "      <td>14</td>\n",
       "      <td>3.6</td>\n",
       "      <td>No</td>\n",
       "      <td>Comedy</td>\n",
       "    </tr>\n",
       "    <tr>\n",
       "      <th>13</th>\n",
       "      <td>14</td>\n",
       "      <td>M</td>\n",
       "      <td>45000.0</td>\n",
       "      <td>36.0</td>\n",
       "      <td>24</td>\n",
       "      <td>2.7</td>\n",
       "      <td>No</td>\n",
       "      <td>Drama</td>\n",
       "    </tr>\n",
       "    <tr>\n",
       "      <th>14</th>\n",
       "      <td>15</td>\n",
       "      <td>M</td>\n",
       "      <td>68000.0</td>\n",
       "      <td>NaN</td>\n",
       "      <td>36</td>\n",
       "      <td>2.7</td>\n",
       "      <td>Yes</td>\n",
       "      <td>Comedy</td>\n",
       "    </tr>\n",
       "    <tr>\n",
       "      <th>15</th>\n",
       "      <td>16</td>\n",
       "      <td>M</td>\n",
       "      <td>17000.0</td>\n",
       "      <td>19.0</td>\n",
       "      <td>26</td>\n",
       "      <td>2.2</td>\n",
       "      <td>Yes</td>\n",
       "      <td>Action</td>\n",
       "    </tr>\n",
       "    <tr>\n",
       "      <th>16</th>\n",
       "      <td>17</td>\n",
       "      <td>M</td>\n",
       "      <td>36000.0</td>\n",
       "      <td>35.0</td>\n",
       "      <td>28</td>\n",
       "      <td>3.5</td>\n",
       "      <td>Yes</td>\n",
       "      <td>Drama</td>\n",
       "    </tr>\n",
       "    <tr>\n",
       "      <th>17</th>\n",
       "      <td>18</td>\n",
       "      <td>F</td>\n",
       "      <td>NaN</td>\n",
       "      <td>16.0</td>\n",
       "      <td>39</td>\n",
       "      <td>1.8</td>\n",
       "      <td>Yes</td>\n",
       "      <td>Action</td>\n",
       "    </tr>\n",
       "    <tr>\n",
       "      <th>18</th>\n",
       "      <td>19</td>\n",
       "      <td>F</td>\n",
       "      <td>24000.0</td>\n",
       "      <td>25.0</td>\n",
       "      <td>41</td>\n",
       "      <td>3.1</td>\n",
       "      <td>No</td>\n",
       "      <td>Comedy</td>\n",
       "    </tr>\n",
       "    <tr>\n",
       "      <th>19</th>\n",
       "      <td>20</td>\n",
       "      <td>M</td>\n",
       "      <td>12000.0</td>\n",
       "      <td>16.0</td>\n",
       "      <td>23</td>\n",
       "      <td>2.2</td>\n",
       "      <td>Yes</td>\n",
       "      <td>NaN</td>\n",
       "    </tr>\n",
       "    <tr>\n",
       "      <th>20</th>\n",
       "      <td>21</td>\n",
       "      <td>F</td>\n",
       "      <td>47000.0</td>\n",
       "      <td>52.0</td>\n",
       "      <td>11</td>\n",
       "      <td>3.1</td>\n",
       "      <td>No</td>\n",
       "      <td>Drama</td>\n",
       "    </tr>\n",
       "    <tr>\n",
       "      <th>21</th>\n",
       "      <td>22</td>\n",
       "      <td>M</td>\n",
       "      <td>25000.0</td>\n",
       "      <td>33.0</td>\n",
       "      <td>16</td>\n",
       "      <td>2.9</td>\n",
       "      <td>Yes</td>\n",
       "      <td>Drama</td>\n",
       "    </tr>\n",
       "    <tr>\n",
       "      <th>22</th>\n",
       "      <td>23</td>\n",
       "      <td>F</td>\n",
       "      <td>2000.0</td>\n",
       "      <td>15.0</td>\n",
       "      <td>30</td>\n",
       "      <td>2.5</td>\n",
       "      <td>No</td>\n",
       "      <td>Comedy</td>\n",
       "    </tr>\n",
       "    <tr>\n",
       "      <th>23</th>\n",
       "      <td>24</td>\n",
       "      <td>F</td>\n",
       "      <td>79000.0</td>\n",
       "      <td>35.0</td>\n",
       "      <td>22</td>\n",
       "      <td>3.8</td>\n",
       "      <td>Yes</td>\n",
       "      <td>Drama</td>\n",
       "    </tr>\n",
       "    <tr>\n",
       "      <th>24</th>\n",
       "      <td>25</td>\n",
       "      <td>M</td>\n",
       "      <td>1000.0</td>\n",
       "      <td>16.0</td>\n",
       "      <td>25</td>\n",
       "      <td>1.4</td>\n",
       "      <td>Yes</td>\n",
       "      <td>Comedy</td>\n",
       "    </tr>\n",
       "    <tr>\n",
       "      <th>25</th>\n",
       "      <td>26</td>\n",
       "      <td>F</td>\n",
       "      <td>56000.0</td>\n",
       "      <td>35.0</td>\n",
       "      <td>40</td>\n",
       "      <td>2.6</td>\n",
       "      <td>Yes</td>\n",
       "      <td>Action</td>\n",
       "    </tr>\n",
       "    <tr>\n",
       "      <th>26</th>\n",
       "      <td>27</td>\n",
       "      <td>F</td>\n",
       "      <td>62000.0</td>\n",
       "      <td>47.0</td>\n",
       "      <td>32</td>\n",
       "      <td>3.6</td>\n",
       "      <td>No</td>\n",
       "      <td>Drama</td>\n",
       "    </tr>\n",
       "    <tr>\n",
       "      <th>27</th>\n",
       "      <td>28</td>\n",
       "      <td>M</td>\n",
       "      <td>57000.0</td>\n",
       "      <td>52.0</td>\n",
       "      <td>22</td>\n",
       "      <td>4.1</td>\n",
       "      <td>No</td>\n",
       "      <td>Comedy</td>\n",
       "    </tr>\n",
       "    <tr>\n",
       "      <th>28</th>\n",
       "      <td>29</td>\n",
       "      <td>F</td>\n",
       "      <td>15000.0</td>\n",
       "      <td>18.0</td>\n",
       "      <td>37</td>\n",
       "      <td>2.1</td>\n",
       "      <td>Yes</td>\n",
       "      <td>Action</td>\n",
       "    </tr>\n",
       "    <tr>\n",
       "      <th>29</th>\n",
       "      <td>30</td>\n",
       "      <td>M</td>\n",
       "      <td>41000.0</td>\n",
       "      <td>25.0</td>\n",
       "      <td>17</td>\n",
       "      <td>1.4</td>\n",
       "      <td>Yes</td>\n",
       "      <td>Action</td>\n",
       "    </tr>\n",
       "    <tr>\n",
       "      <th>30</th>\n",
       "      <td>31</td>\n",
       "      <td>F</td>\n",
       "      <td>49000.0</td>\n",
       "      <td>56.0</td>\n",
       "      <td>15</td>\n",
       "      <td>3.2</td>\n",
       "      <td>No</td>\n",
       "      <td>Comedy</td>\n",
       "    </tr>\n",
       "    <tr>\n",
       "      <th>31</th>\n",
       "      <td>32</td>\n",
       "      <td>M</td>\n",
       "      <td>47000.0</td>\n",
       "      <td>30.0</td>\n",
       "      <td>21</td>\n",
       "      <td>3.1</td>\n",
       "      <td>Yes</td>\n",
       "      <td>Drama</td>\n",
       "    </tr>\n",
       "    <tr>\n",
       "      <th>32</th>\n",
       "      <td>33</td>\n",
       "      <td>M</td>\n",
       "      <td>23000.0</td>\n",
       "      <td>25.0</td>\n",
       "      <td>28</td>\n",
       "      <td>2.7</td>\n",
       "      <td>No</td>\n",
       "      <td>Action</td>\n",
       "    </tr>\n",
       "    <tr>\n",
       "      <th>33</th>\n",
       "      <td>34</td>\n",
       "      <td>F</td>\n",
       "      <td>29000.0</td>\n",
       "      <td>32.0</td>\n",
       "      <td>19</td>\n",
       "      <td>2.9</td>\n",
       "      <td>Yes</td>\n",
       "      <td>Action</td>\n",
       "    </tr>\n",
       "    <tr>\n",
       "      <th>34</th>\n",
       "      <td>35</td>\n",
       "      <td>M</td>\n",
       "      <td>74000.0</td>\n",
       "      <td>29.0</td>\n",
       "      <td>43</td>\n",
       "      <td>4.6</td>\n",
       "      <td>Yes</td>\n",
       "      <td>Action</td>\n",
       "    </tr>\n",
       "    <tr>\n",
       "      <th>35</th>\n",
       "      <td>36</td>\n",
       "      <td>F</td>\n",
       "      <td>29000.0</td>\n",
       "      <td>21.0</td>\n",
       "      <td>34</td>\n",
       "      <td>2.3</td>\n",
       "      <td>No</td>\n",
       "      <td>Comedy</td>\n",
       "    </tr>\n",
       "    <tr>\n",
       "      <th>36</th>\n",
       "      <td>37</td>\n",
       "      <td>M</td>\n",
       "      <td>89000.0</td>\n",
       "      <td>46.0</td>\n",
       "      <td>12</td>\n",
       "      <td>1.2</td>\n",
       "      <td>No</td>\n",
       "      <td>Comedy</td>\n",
       "    </tr>\n",
       "    <tr>\n",
       "      <th>37</th>\n",
       "      <td>38</td>\n",
       "      <td>M</td>\n",
       "      <td>41000.0</td>\n",
       "      <td>38.0</td>\n",
       "      <td>20</td>\n",
       "      <td>3.3</td>\n",
       "      <td>Yes</td>\n",
       "      <td>Drama</td>\n",
       "    </tr>\n",
       "    <tr>\n",
       "      <th>38</th>\n",
       "      <td>39</td>\n",
       "      <td>F</td>\n",
       "      <td>68000.0</td>\n",
       "      <td>35.0</td>\n",
       "      <td>19</td>\n",
       "      <td>3.9</td>\n",
       "      <td>No</td>\n",
       "      <td>Comedy</td>\n",
       "    </tr>\n",
       "    <tr>\n",
       "      <th>39</th>\n",
       "      <td>40</td>\n",
       "      <td>M</td>\n",
       "      <td>17000.0</td>\n",
       "      <td>19.0</td>\n",
       "      <td>32</td>\n",
       "      <td>1.8</td>\n",
       "      <td>No</td>\n",
       "      <td>Action</td>\n",
       "    </tr>\n",
       "    <tr>\n",
       "      <th>40</th>\n",
       "      <td>41</td>\n",
       "      <td>F</td>\n",
       "      <td>50000.0</td>\n",
       "      <td>33.0</td>\n",
       "      <td>17</td>\n",
       "      <td>1.4</td>\n",
       "      <td>No</td>\n",
       "      <td>Drama</td>\n",
       "    </tr>\n",
       "    <tr>\n",
       "      <th>41</th>\n",
       "      <td>42</td>\n",
       "      <td>M</td>\n",
       "      <td>32000.0</td>\n",
       "      <td>25.0</td>\n",
       "      <td>26</td>\n",
       "      <td>2.2</td>\n",
       "      <td>Yes</td>\n",
       "      <td>Action</td>\n",
       "    </tr>\n",
       "    <tr>\n",
       "      <th>42</th>\n",
       "      <td>43</td>\n",
       "      <td>F</td>\n",
       "      <td>49000.0</td>\n",
       "      <td>28.0</td>\n",
       "      <td>48</td>\n",
       "      <td>3.3</td>\n",
       "      <td>Yes</td>\n",
       "      <td>Drama</td>\n",
       "    </tr>\n",
       "    <tr>\n",
       "      <th>43</th>\n",
       "      <td>44</td>\n",
       "      <td>M</td>\n",
       "      <td>35000.0</td>\n",
       "      <td>24.0</td>\n",
       "      <td>24</td>\n",
       "      <td>1.7</td>\n",
       "      <td>No</td>\n",
       "      <td>Drama</td>\n",
       "    </tr>\n",
       "    <tr>\n",
       "      <th>44</th>\n",
       "      <td>45</td>\n",
       "      <td>M</td>\n",
       "      <td>56000.0</td>\n",
       "      <td>NaN</td>\n",
       "      <td>30</td>\n",
       "      <td>3.5</td>\n",
       "      <td>Yes</td>\n",
       "      <td>Drama</td>\n",
       "    </tr>\n",
       "    <tr>\n",
       "      <th>45</th>\n",
       "      <td>46</td>\n",
       "      <td>F</td>\n",
       "      <td>57000.0</td>\n",
       "      <td>43.0</td>\n",
       "      <td>9</td>\n",
       "      <td>1.1</td>\n",
       "      <td>No</td>\n",
       "      <td>Drama</td>\n",
       "    </tr>\n",
       "    <tr>\n",
       "      <th>46</th>\n",
       "      <td>47</td>\n",
       "      <td>F</td>\n",
       "      <td>69000.0</td>\n",
       "      <td>35.0</td>\n",
       "      <td>22</td>\n",
       "      <td>2.8</td>\n",
       "      <td>Yes</td>\n",
       "      <td>Drama</td>\n",
       "    </tr>\n",
       "    <tr>\n",
       "      <th>47</th>\n",
       "      <td>48</td>\n",
       "      <td>F</td>\n",
       "      <td>52000.0</td>\n",
       "      <td>47.0</td>\n",
       "      <td>14</td>\n",
       "      <td>1.6</td>\n",
       "      <td>No</td>\n",
       "      <td>Drama</td>\n",
       "    </tr>\n",
       "    <tr>\n",
       "      <th>48</th>\n",
       "      <td>49</td>\n",
       "      <td>M</td>\n",
       "      <td>31000.0</td>\n",
       "      <td>NaN</td>\n",
       "      <td>42</td>\n",
       "      <td>3.4</td>\n",
       "      <td>Yes</td>\n",
       "      <td>Action</td>\n",
       "    </tr>\n",
       "    <tr>\n",
       "      <th>49</th>\n",
       "      <td>50</td>\n",
       "      <td>M</td>\n",
       "      <td>24000.0</td>\n",
       "      <td>20.0</td>\n",
       "      <td>33</td>\n",
       "      <td>4.7</td>\n",
       "      <td>No</td>\n",
       "      <td>Action</td>\n",
       "    </tr>\n",
       "  </tbody>\n",
       "</table>\n",
       "</div>"
      ],
      "text/plain": [
       "    Cust ID Gender   Income   Age  Rentals  Avg Per Visit Incidentals   Genre\n",
       "0         1      M  45000.0  25.0       27            2.5         Yes  Action\n",
       "1         2      F  54000.0  33.0       12            3.4          No   Drama\n",
       "2         3      F  32000.0  20.0       42            1.6          No  Comedy\n",
       "3         4      F  59000.0  70.0       16            4.2         Yes   Drama\n",
       "4         5      M  37000.0  35.0       25            3.2         Yes  Action\n",
       "5         6      M  18000.0  20.0       33            1.7          No  Action\n",
       "6         7      F  29000.0  45.0       19            3.8          No   Drama\n",
       "7         8      M  74000.0  25.0       31            2.4         Yes  Action\n",
       "8         9      M      NaN  21.0       18            2.1          No  Comedy\n",
       "9        10      F  65000.0  40.0       21            3.3          No     NaN\n",
       "10       11      F  41000.0  22.0       48            2.3         Yes   Drama\n",
       "11       12      F  26000.0  22.0       29            2.9         Yes  Action\n",
       "12       13      M  83000.0  46.0       14            3.6          No  Comedy\n",
       "13       14      M  45000.0  36.0       24            2.7          No   Drama\n",
       "14       15      M  68000.0   NaN       36            2.7         Yes  Comedy\n",
       "15       16      M  17000.0  19.0       26            2.2         Yes  Action\n",
       "16       17      M  36000.0  35.0       28            3.5         Yes   Drama\n",
       "17       18      F      NaN  16.0       39            1.8         Yes  Action\n",
       "18       19      F  24000.0  25.0       41            3.1          No  Comedy\n",
       "19       20      M  12000.0  16.0       23            2.2         Yes     NaN\n",
       "20       21      F  47000.0  52.0       11            3.1          No   Drama\n",
       "21       22      M  25000.0  33.0       16            2.9         Yes   Drama\n",
       "22       23      F   2000.0  15.0       30            2.5          No  Comedy\n",
       "23       24      F  79000.0  35.0       22            3.8         Yes   Drama\n",
       "24       25      M   1000.0  16.0       25            1.4         Yes  Comedy\n",
       "25       26      F  56000.0  35.0       40            2.6         Yes  Action\n",
       "26       27      F  62000.0  47.0       32            3.6          No   Drama\n",
       "27       28      M  57000.0  52.0       22            4.1          No  Comedy\n",
       "28       29      F  15000.0  18.0       37            2.1         Yes  Action\n",
       "29       30      M  41000.0  25.0       17            1.4         Yes  Action\n",
       "30       31      F  49000.0  56.0       15            3.2          No  Comedy\n",
       "31       32      M  47000.0  30.0       21            3.1         Yes   Drama\n",
       "32       33      M  23000.0  25.0       28            2.7          No  Action\n",
       "33       34      F  29000.0  32.0       19            2.9         Yes  Action\n",
       "34       35      M  74000.0  29.0       43            4.6         Yes  Action\n",
       "35       36      F  29000.0  21.0       34            2.3          No  Comedy\n",
       "36       37      M  89000.0  46.0       12            1.2          No  Comedy\n",
       "37       38      M  41000.0  38.0       20            3.3         Yes   Drama\n",
       "38       39      F  68000.0  35.0       19            3.9          No  Comedy\n",
       "39       40      M  17000.0  19.0       32            1.8          No  Action\n",
       "40       41      F  50000.0  33.0       17            1.4          No   Drama\n",
       "41       42      M  32000.0  25.0       26            2.2         Yes  Action\n",
       "42       43      F  49000.0  28.0       48            3.3         Yes   Drama\n",
       "43       44      M  35000.0  24.0       24            1.7          No   Drama\n",
       "44       45      M  56000.0   NaN       30            3.5         Yes   Drama\n",
       "45       46      F  57000.0  43.0        9            1.1          No   Drama\n",
       "46       47      F  69000.0  35.0       22            2.8         Yes   Drama\n",
       "47       48      F  52000.0  47.0       14            1.6          No   Drama\n",
       "48       49      M  31000.0   NaN       42            3.4         Yes  Action\n",
       "49       50      M  24000.0  20.0       33            4.7          No  Action"
      ]
     },
     "execution_count": 283,
     "metadata": {
      "tags": []
     },
     "output_type": "execute_result"
    }
   ],
   "source": [
    "import pandas as pd\n",
    "\n",
    "df_video2 = pd.read_excel(r'Video-Store.xls', sheet_name='Sheet2')\n",
    "df_video2 = df_video2.drop(columns=['Unnamed: 8','Unnamed: 9', 'Unnamed: 10'])\n",
    "df_video2.head(50)"
   ]
  },
  {
   "cell_type": "markdown",
   "metadata": {
    "id": "T_oAHnUVtQal"
   },
   "source": [
    "**Sheet2 setelah *missing value* diisi dengan nilai yang paling sering muncul pada tiap kolomnya.**"
   ]
  },
  {
   "cell_type": "code",
   "execution_count": null,
   "metadata": {
    "colab": {
     "base_uri": "https://localhost:8080/",
     "height": 1000
    },
    "id": "zyEH5sDBpdXi",
    "outputId": "82e21677-74c5-4399-9a2b-07d87de305a1"
   },
   "outputs": [
    {
     "data": {
      "text/html": [
       "<div>\n",
       "<style scoped>\n",
       "    .dataframe tbody tr th:only-of-type {\n",
       "        vertical-align: middle;\n",
       "    }\n",
       "\n",
       "    .dataframe tbody tr th {\n",
       "        vertical-align: top;\n",
       "    }\n",
       "\n",
       "    .dataframe thead th {\n",
       "        text-align: right;\n",
       "    }\n",
       "</style>\n",
       "<table border=\"1\" class=\"dataframe\">\n",
       "  <thead>\n",
       "    <tr style=\"text-align: right;\">\n",
       "      <th></th>\n",
       "      <th>Cust ID</th>\n",
       "      <th>Gender</th>\n",
       "      <th>Income</th>\n",
       "      <th>Age</th>\n",
       "      <th>Rentals</th>\n",
       "      <th>Avg Per Visit</th>\n",
       "      <th>Incidentals</th>\n",
       "      <th>Genre</th>\n",
       "    </tr>\n",
       "  </thead>\n",
       "  <tbody>\n",
       "    <tr>\n",
       "      <th>0</th>\n",
       "      <td>1</td>\n",
       "      <td>M</td>\n",
       "      <td>45000.0</td>\n",
       "      <td>25.0</td>\n",
       "      <td>27</td>\n",
       "      <td>2.5</td>\n",
       "      <td>Yes</td>\n",
       "      <td>Action</td>\n",
       "    </tr>\n",
       "    <tr>\n",
       "      <th>1</th>\n",
       "      <td>2</td>\n",
       "      <td>F</td>\n",
       "      <td>54000.0</td>\n",
       "      <td>33.0</td>\n",
       "      <td>12</td>\n",
       "      <td>3.4</td>\n",
       "      <td>No</td>\n",
       "      <td>Drama</td>\n",
       "    </tr>\n",
       "    <tr>\n",
       "      <th>2</th>\n",
       "      <td>3</td>\n",
       "      <td>F</td>\n",
       "      <td>32000.0</td>\n",
       "      <td>20.0</td>\n",
       "      <td>42</td>\n",
       "      <td>1.6</td>\n",
       "      <td>No</td>\n",
       "      <td>Comedy</td>\n",
       "    </tr>\n",
       "    <tr>\n",
       "      <th>3</th>\n",
       "      <td>4</td>\n",
       "      <td>F</td>\n",
       "      <td>59000.0</td>\n",
       "      <td>70.0</td>\n",
       "      <td>16</td>\n",
       "      <td>4.2</td>\n",
       "      <td>Yes</td>\n",
       "      <td>Drama</td>\n",
       "    </tr>\n",
       "    <tr>\n",
       "      <th>4</th>\n",
       "      <td>5</td>\n",
       "      <td>M</td>\n",
       "      <td>37000.0</td>\n",
       "      <td>35.0</td>\n",
       "      <td>25</td>\n",
       "      <td>3.2</td>\n",
       "      <td>Yes</td>\n",
       "      <td>Action</td>\n",
       "    </tr>\n",
       "    <tr>\n",
       "      <th>5</th>\n",
       "      <td>6</td>\n",
       "      <td>M</td>\n",
       "      <td>18000.0</td>\n",
       "      <td>20.0</td>\n",
       "      <td>33</td>\n",
       "      <td>1.7</td>\n",
       "      <td>No</td>\n",
       "      <td>Action</td>\n",
       "    </tr>\n",
       "    <tr>\n",
       "      <th>6</th>\n",
       "      <td>7</td>\n",
       "      <td>F</td>\n",
       "      <td>29000.0</td>\n",
       "      <td>45.0</td>\n",
       "      <td>19</td>\n",
       "      <td>3.8</td>\n",
       "      <td>No</td>\n",
       "      <td>Drama</td>\n",
       "    </tr>\n",
       "    <tr>\n",
       "      <th>7</th>\n",
       "      <td>8</td>\n",
       "      <td>M</td>\n",
       "      <td>74000.0</td>\n",
       "      <td>25.0</td>\n",
       "      <td>31</td>\n",
       "      <td>2.4</td>\n",
       "      <td>Yes</td>\n",
       "      <td>Action</td>\n",
       "    </tr>\n",
       "    <tr>\n",
       "      <th>8</th>\n",
       "      <td>9</td>\n",
       "      <td>M</td>\n",
       "      <td>29000.0</td>\n",
       "      <td>21.0</td>\n",
       "      <td>18</td>\n",
       "      <td>2.1</td>\n",
       "      <td>No</td>\n",
       "      <td>Comedy</td>\n",
       "    </tr>\n",
       "    <tr>\n",
       "      <th>9</th>\n",
       "      <td>10</td>\n",
       "      <td>F</td>\n",
       "      <td>65000.0</td>\n",
       "      <td>40.0</td>\n",
       "      <td>21</td>\n",
       "      <td>3.3</td>\n",
       "      <td>No</td>\n",
       "      <td>Drama</td>\n",
       "    </tr>\n",
       "    <tr>\n",
       "      <th>10</th>\n",
       "      <td>11</td>\n",
       "      <td>F</td>\n",
       "      <td>41000.0</td>\n",
       "      <td>22.0</td>\n",
       "      <td>48</td>\n",
       "      <td>2.3</td>\n",
       "      <td>Yes</td>\n",
       "      <td>Drama</td>\n",
       "    </tr>\n",
       "    <tr>\n",
       "      <th>11</th>\n",
       "      <td>12</td>\n",
       "      <td>F</td>\n",
       "      <td>26000.0</td>\n",
       "      <td>22.0</td>\n",
       "      <td>29</td>\n",
       "      <td>2.9</td>\n",
       "      <td>Yes</td>\n",
       "      <td>Action</td>\n",
       "    </tr>\n",
       "    <tr>\n",
       "      <th>12</th>\n",
       "      <td>13</td>\n",
       "      <td>M</td>\n",
       "      <td>83000.0</td>\n",
       "      <td>46.0</td>\n",
       "      <td>14</td>\n",
       "      <td>3.6</td>\n",
       "      <td>No</td>\n",
       "      <td>Comedy</td>\n",
       "    </tr>\n",
       "    <tr>\n",
       "      <th>13</th>\n",
       "      <td>14</td>\n",
       "      <td>M</td>\n",
       "      <td>45000.0</td>\n",
       "      <td>36.0</td>\n",
       "      <td>24</td>\n",
       "      <td>2.7</td>\n",
       "      <td>No</td>\n",
       "      <td>Drama</td>\n",
       "    </tr>\n",
       "    <tr>\n",
       "      <th>14</th>\n",
       "      <td>15</td>\n",
       "      <td>M</td>\n",
       "      <td>68000.0</td>\n",
       "      <td>25.0</td>\n",
       "      <td>36</td>\n",
       "      <td>2.7</td>\n",
       "      <td>Yes</td>\n",
       "      <td>Comedy</td>\n",
       "    </tr>\n",
       "    <tr>\n",
       "      <th>15</th>\n",
       "      <td>16</td>\n",
       "      <td>M</td>\n",
       "      <td>17000.0</td>\n",
       "      <td>19.0</td>\n",
       "      <td>26</td>\n",
       "      <td>2.2</td>\n",
       "      <td>Yes</td>\n",
       "      <td>Action</td>\n",
       "    </tr>\n",
       "    <tr>\n",
       "      <th>16</th>\n",
       "      <td>17</td>\n",
       "      <td>M</td>\n",
       "      <td>36000.0</td>\n",
       "      <td>35.0</td>\n",
       "      <td>28</td>\n",
       "      <td>3.5</td>\n",
       "      <td>Yes</td>\n",
       "      <td>Drama</td>\n",
       "    </tr>\n",
       "    <tr>\n",
       "      <th>17</th>\n",
       "      <td>18</td>\n",
       "      <td>F</td>\n",
       "      <td>29000.0</td>\n",
       "      <td>16.0</td>\n",
       "      <td>39</td>\n",
       "      <td>1.8</td>\n",
       "      <td>Yes</td>\n",
       "      <td>Action</td>\n",
       "    </tr>\n",
       "    <tr>\n",
       "      <th>18</th>\n",
       "      <td>19</td>\n",
       "      <td>F</td>\n",
       "      <td>24000.0</td>\n",
       "      <td>25.0</td>\n",
       "      <td>41</td>\n",
       "      <td>3.1</td>\n",
       "      <td>No</td>\n",
       "      <td>Comedy</td>\n",
       "    </tr>\n",
       "    <tr>\n",
       "      <th>19</th>\n",
       "      <td>20</td>\n",
       "      <td>M</td>\n",
       "      <td>12000.0</td>\n",
       "      <td>16.0</td>\n",
       "      <td>23</td>\n",
       "      <td>2.2</td>\n",
       "      <td>Yes</td>\n",
       "      <td>Drama</td>\n",
       "    </tr>\n",
       "    <tr>\n",
       "      <th>20</th>\n",
       "      <td>21</td>\n",
       "      <td>F</td>\n",
       "      <td>47000.0</td>\n",
       "      <td>52.0</td>\n",
       "      <td>11</td>\n",
       "      <td>3.1</td>\n",
       "      <td>No</td>\n",
       "      <td>Drama</td>\n",
       "    </tr>\n",
       "    <tr>\n",
       "      <th>21</th>\n",
       "      <td>22</td>\n",
       "      <td>M</td>\n",
       "      <td>25000.0</td>\n",
       "      <td>33.0</td>\n",
       "      <td>16</td>\n",
       "      <td>2.9</td>\n",
       "      <td>Yes</td>\n",
       "      <td>Drama</td>\n",
       "    </tr>\n",
       "    <tr>\n",
       "      <th>22</th>\n",
       "      <td>23</td>\n",
       "      <td>F</td>\n",
       "      <td>2000.0</td>\n",
       "      <td>15.0</td>\n",
       "      <td>30</td>\n",
       "      <td>2.5</td>\n",
       "      <td>No</td>\n",
       "      <td>Comedy</td>\n",
       "    </tr>\n",
       "    <tr>\n",
       "      <th>23</th>\n",
       "      <td>24</td>\n",
       "      <td>F</td>\n",
       "      <td>79000.0</td>\n",
       "      <td>35.0</td>\n",
       "      <td>22</td>\n",
       "      <td>3.8</td>\n",
       "      <td>Yes</td>\n",
       "      <td>Drama</td>\n",
       "    </tr>\n",
       "    <tr>\n",
       "      <th>24</th>\n",
       "      <td>25</td>\n",
       "      <td>M</td>\n",
       "      <td>1000.0</td>\n",
       "      <td>16.0</td>\n",
       "      <td>25</td>\n",
       "      <td>1.4</td>\n",
       "      <td>Yes</td>\n",
       "      <td>Comedy</td>\n",
       "    </tr>\n",
       "    <tr>\n",
       "      <th>25</th>\n",
       "      <td>26</td>\n",
       "      <td>F</td>\n",
       "      <td>56000.0</td>\n",
       "      <td>35.0</td>\n",
       "      <td>40</td>\n",
       "      <td>2.6</td>\n",
       "      <td>Yes</td>\n",
       "      <td>Action</td>\n",
       "    </tr>\n",
       "    <tr>\n",
       "      <th>26</th>\n",
       "      <td>27</td>\n",
       "      <td>F</td>\n",
       "      <td>62000.0</td>\n",
       "      <td>47.0</td>\n",
       "      <td>32</td>\n",
       "      <td>3.6</td>\n",
       "      <td>No</td>\n",
       "      <td>Drama</td>\n",
       "    </tr>\n",
       "    <tr>\n",
       "      <th>27</th>\n",
       "      <td>28</td>\n",
       "      <td>M</td>\n",
       "      <td>57000.0</td>\n",
       "      <td>52.0</td>\n",
       "      <td>22</td>\n",
       "      <td>4.1</td>\n",
       "      <td>No</td>\n",
       "      <td>Comedy</td>\n",
       "    </tr>\n",
       "    <tr>\n",
       "      <th>28</th>\n",
       "      <td>29</td>\n",
       "      <td>F</td>\n",
       "      <td>15000.0</td>\n",
       "      <td>18.0</td>\n",
       "      <td>37</td>\n",
       "      <td>2.1</td>\n",
       "      <td>Yes</td>\n",
       "      <td>Action</td>\n",
       "    </tr>\n",
       "    <tr>\n",
       "      <th>29</th>\n",
       "      <td>30</td>\n",
       "      <td>M</td>\n",
       "      <td>41000.0</td>\n",
       "      <td>25.0</td>\n",
       "      <td>17</td>\n",
       "      <td>1.4</td>\n",
       "      <td>Yes</td>\n",
       "      <td>Action</td>\n",
       "    </tr>\n",
       "    <tr>\n",
       "      <th>30</th>\n",
       "      <td>31</td>\n",
       "      <td>F</td>\n",
       "      <td>49000.0</td>\n",
       "      <td>56.0</td>\n",
       "      <td>15</td>\n",
       "      <td>3.2</td>\n",
       "      <td>No</td>\n",
       "      <td>Comedy</td>\n",
       "    </tr>\n",
       "    <tr>\n",
       "      <th>31</th>\n",
       "      <td>32</td>\n",
       "      <td>M</td>\n",
       "      <td>47000.0</td>\n",
       "      <td>30.0</td>\n",
       "      <td>21</td>\n",
       "      <td>3.1</td>\n",
       "      <td>Yes</td>\n",
       "      <td>Drama</td>\n",
       "    </tr>\n",
       "    <tr>\n",
       "      <th>32</th>\n",
       "      <td>33</td>\n",
       "      <td>M</td>\n",
       "      <td>23000.0</td>\n",
       "      <td>25.0</td>\n",
       "      <td>28</td>\n",
       "      <td>2.7</td>\n",
       "      <td>No</td>\n",
       "      <td>Action</td>\n",
       "    </tr>\n",
       "    <tr>\n",
       "      <th>33</th>\n",
       "      <td>34</td>\n",
       "      <td>F</td>\n",
       "      <td>29000.0</td>\n",
       "      <td>32.0</td>\n",
       "      <td>19</td>\n",
       "      <td>2.9</td>\n",
       "      <td>Yes</td>\n",
       "      <td>Action</td>\n",
       "    </tr>\n",
       "    <tr>\n",
       "      <th>34</th>\n",
       "      <td>35</td>\n",
       "      <td>M</td>\n",
       "      <td>74000.0</td>\n",
       "      <td>29.0</td>\n",
       "      <td>43</td>\n",
       "      <td>4.6</td>\n",
       "      <td>Yes</td>\n",
       "      <td>Action</td>\n",
       "    </tr>\n",
       "    <tr>\n",
       "      <th>35</th>\n",
       "      <td>36</td>\n",
       "      <td>F</td>\n",
       "      <td>29000.0</td>\n",
       "      <td>21.0</td>\n",
       "      <td>34</td>\n",
       "      <td>2.3</td>\n",
       "      <td>No</td>\n",
       "      <td>Comedy</td>\n",
       "    </tr>\n",
       "    <tr>\n",
       "      <th>36</th>\n",
       "      <td>37</td>\n",
       "      <td>M</td>\n",
       "      <td>89000.0</td>\n",
       "      <td>46.0</td>\n",
       "      <td>12</td>\n",
       "      <td>1.2</td>\n",
       "      <td>No</td>\n",
       "      <td>Comedy</td>\n",
       "    </tr>\n",
       "    <tr>\n",
       "      <th>37</th>\n",
       "      <td>38</td>\n",
       "      <td>M</td>\n",
       "      <td>41000.0</td>\n",
       "      <td>38.0</td>\n",
       "      <td>20</td>\n",
       "      <td>3.3</td>\n",
       "      <td>Yes</td>\n",
       "      <td>Drama</td>\n",
       "    </tr>\n",
       "    <tr>\n",
       "      <th>38</th>\n",
       "      <td>39</td>\n",
       "      <td>F</td>\n",
       "      <td>68000.0</td>\n",
       "      <td>35.0</td>\n",
       "      <td>19</td>\n",
       "      <td>3.9</td>\n",
       "      <td>No</td>\n",
       "      <td>Comedy</td>\n",
       "    </tr>\n",
       "    <tr>\n",
       "      <th>39</th>\n",
       "      <td>40</td>\n",
       "      <td>M</td>\n",
       "      <td>17000.0</td>\n",
       "      <td>19.0</td>\n",
       "      <td>32</td>\n",
       "      <td>1.8</td>\n",
       "      <td>No</td>\n",
       "      <td>Action</td>\n",
       "    </tr>\n",
       "    <tr>\n",
       "      <th>40</th>\n",
       "      <td>41</td>\n",
       "      <td>F</td>\n",
       "      <td>50000.0</td>\n",
       "      <td>33.0</td>\n",
       "      <td>17</td>\n",
       "      <td>1.4</td>\n",
       "      <td>No</td>\n",
       "      <td>Drama</td>\n",
       "    </tr>\n",
       "    <tr>\n",
       "      <th>41</th>\n",
       "      <td>42</td>\n",
       "      <td>M</td>\n",
       "      <td>32000.0</td>\n",
       "      <td>25.0</td>\n",
       "      <td>26</td>\n",
       "      <td>2.2</td>\n",
       "      <td>Yes</td>\n",
       "      <td>Action</td>\n",
       "    </tr>\n",
       "    <tr>\n",
       "      <th>42</th>\n",
       "      <td>43</td>\n",
       "      <td>F</td>\n",
       "      <td>49000.0</td>\n",
       "      <td>28.0</td>\n",
       "      <td>48</td>\n",
       "      <td>3.3</td>\n",
       "      <td>Yes</td>\n",
       "      <td>Drama</td>\n",
       "    </tr>\n",
       "    <tr>\n",
       "      <th>43</th>\n",
       "      <td>44</td>\n",
       "      <td>M</td>\n",
       "      <td>35000.0</td>\n",
       "      <td>24.0</td>\n",
       "      <td>24</td>\n",
       "      <td>1.7</td>\n",
       "      <td>No</td>\n",
       "      <td>Drama</td>\n",
       "    </tr>\n",
       "    <tr>\n",
       "      <th>44</th>\n",
       "      <td>45</td>\n",
       "      <td>M</td>\n",
       "      <td>56000.0</td>\n",
       "      <td>25.0</td>\n",
       "      <td>30</td>\n",
       "      <td>3.5</td>\n",
       "      <td>Yes</td>\n",
       "      <td>Drama</td>\n",
       "    </tr>\n",
       "    <tr>\n",
       "      <th>45</th>\n",
       "      <td>46</td>\n",
       "      <td>F</td>\n",
       "      <td>57000.0</td>\n",
       "      <td>43.0</td>\n",
       "      <td>9</td>\n",
       "      <td>1.1</td>\n",
       "      <td>No</td>\n",
       "      <td>Drama</td>\n",
       "    </tr>\n",
       "    <tr>\n",
       "      <th>46</th>\n",
       "      <td>47</td>\n",
       "      <td>F</td>\n",
       "      <td>69000.0</td>\n",
       "      <td>35.0</td>\n",
       "      <td>22</td>\n",
       "      <td>2.8</td>\n",
       "      <td>Yes</td>\n",
       "      <td>Drama</td>\n",
       "    </tr>\n",
       "    <tr>\n",
       "      <th>47</th>\n",
       "      <td>48</td>\n",
       "      <td>F</td>\n",
       "      <td>52000.0</td>\n",
       "      <td>47.0</td>\n",
       "      <td>14</td>\n",
       "      <td>1.6</td>\n",
       "      <td>No</td>\n",
       "      <td>Drama</td>\n",
       "    </tr>\n",
       "    <tr>\n",
       "      <th>48</th>\n",
       "      <td>49</td>\n",
       "      <td>M</td>\n",
       "      <td>31000.0</td>\n",
       "      <td>25.0</td>\n",
       "      <td>42</td>\n",
       "      <td>3.4</td>\n",
       "      <td>Yes</td>\n",
       "      <td>Action</td>\n",
       "    </tr>\n",
       "    <tr>\n",
       "      <th>49</th>\n",
       "      <td>50</td>\n",
       "      <td>M</td>\n",
       "      <td>24000.0</td>\n",
       "      <td>20.0</td>\n",
       "      <td>33</td>\n",
       "      <td>4.7</td>\n",
       "      <td>No</td>\n",
       "      <td>Action</td>\n",
       "    </tr>\n",
       "  </tbody>\n",
       "</table>\n",
       "</div>"
      ],
      "text/plain": [
       "    Cust ID Gender   Income   Age  Rentals  Avg Per Visit Incidentals   Genre\n",
       "0         1      M  45000.0  25.0       27            2.5         Yes  Action\n",
       "1         2      F  54000.0  33.0       12            3.4          No   Drama\n",
       "2         3      F  32000.0  20.0       42            1.6          No  Comedy\n",
       "3         4      F  59000.0  70.0       16            4.2         Yes   Drama\n",
       "4         5      M  37000.0  35.0       25            3.2         Yes  Action\n",
       "5         6      M  18000.0  20.0       33            1.7          No  Action\n",
       "6         7      F  29000.0  45.0       19            3.8          No   Drama\n",
       "7         8      M  74000.0  25.0       31            2.4         Yes  Action\n",
       "8         9      M  29000.0  21.0       18            2.1          No  Comedy\n",
       "9        10      F  65000.0  40.0       21            3.3          No   Drama\n",
       "10       11      F  41000.0  22.0       48            2.3         Yes   Drama\n",
       "11       12      F  26000.0  22.0       29            2.9         Yes  Action\n",
       "12       13      M  83000.0  46.0       14            3.6          No  Comedy\n",
       "13       14      M  45000.0  36.0       24            2.7          No   Drama\n",
       "14       15      M  68000.0  25.0       36            2.7         Yes  Comedy\n",
       "15       16      M  17000.0  19.0       26            2.2         Yes  Action\n",
       "16       17      M  36000.0  35.0       28            3.5         Yes   Drama\n",
       "17       18      F  29000.0  16.0       39            1.8         Yes  Action\n",
       "18       19      F  24000.0  25.0       41            3.1          No  Comedy\n",
       "19       20      M  12000.0  16.0       23            2.2         Yes   Drama\n",
       "20       21      F  47000.0  52.0       11            3.1          No   Drama\n",
       "21       22      M  25000.0  33.0       16            2.9         Yes   Drama\n",
       "22       23      F   2000.0  15.0       30            2.5          No  Comedy\n",
       "23       24      F  79000.0  35.0       22            3.8         Yes   Drama\n",
       "24       25      M   1000.0  16.0       25            1.4         Yes  Comedy\n",
       "25       26      F  56000.0  35.0       40            2.6         Yes  Action\n",
       "26       27      F  62000.0  47.0       32            3.6          No   Drama\n",
       "27       28      M  57000.0  52.0       22            4.1          No  Comedy\n",
       "28       29      F  15000.0  18.0       37            2.1         Yes  Action\n",
       "29       30      M  41000.0  25.0       17            1.4         Yes  Action\n",
       "30       31      F  49000.0  56.0       15            3.2          No  Comedy\n",
       "31       32      M  47000.0  30.0       21            3.1         Yes   Drama\n",
       "32       33      M  23000.0  25.0       28            2.7          No  Action\n",
       "33       34      F  29000.0  32.0       19            2.9         Yes  Action\n",
       "34       35      M  74000.0  29.0       43            4.6         Yes  Action\n",
       "35       36      F  29000.0  21.0       34            2.3          No  Comedy\n",
       "36       37      M  89000.0  46.0       12            1.2          No  Comedy\n",
       "37       38      M  41000.0  38.0       20            3.3         Yes   Drama\n",
       "38       39      F  68000.0  35.0       19            3.9          No  Comedy\n",
       "39       40      M  17000.0  19.0       32            1.8          No  Action\n",
       "40       41      F  50000.0  33.0       17            1.4          No   Drama\n",
       "41       42      M  32000.0  25.0       26            2.2         Yes  Action\n",
       "42       43      F  49000.0  28.0       48            3.3         Yes   Drama\n",
       "43       44      M  35000.0  24.0       24            1.7          No   Drama\n",
       "44       45      M  56000.0  25.0       30            3.5         Yes   Drama\n",
       "45       46      F  57000.0  43.0        9            1.1          No   Drama\n",
       "46       47      F  69000.0  35.0       22            2.8         Yes   Drama\n",
       "47       48      F  52000.0  47.0       14            1.6          No   Drama\n",
       "48       49      M  31000.0  25.0       42            3.4         Yes  Action\n",
       "49       50      M  24000.0  20.0       33            4.7          No  Action"
      ]
     },
     "execution_count": 284,
     "metadata": {
      "tags": []
     },
     "output_type": "execute_result"
    }
   ],
   "source": [
    "df_video2 = df_video2.fillna(df_video2.mode().iloc[0])\n",
    "df_video2.head(50)"
   ]
  }
 ],
 "metadata": {
  "colab": {
   "collapsed_sections": [],
   "name": "TUGAS2_DMBI.ipynb",
   "provenance": []
  },
  "kernelspec": {
   "display_name": "Python 3",
   "language": "python",
   "name": "python3"
  },
  "language_info": {
   "codemirror_mode": {
    "name": "ipython",
    "version": 3
   },
   "file_extension": ".py",
   "mimetype": "text/x-python",
   "name": "python",
   "nbconvert_exporter": "python",
   "pygments_lexer": "ipython3",
   "version": "3.7.4"
  }
 },
 "nbformat": 4,
 "nbformat_minor": 1
}
